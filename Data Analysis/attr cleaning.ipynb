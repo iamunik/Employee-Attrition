{
 "cells": [
  {
   "cell_type": "markdown",
   "id": "0537b307",
   "metadata": {},
   "source": [
    "# Attr data cleaning"
   ]
  },
  {
   "cell_type": "code",
   "execution_count": 1,
   "id": "f045650f",
   "metadata": {},
   "outputs": [],
   "source": [
    "import pandas as pd\n",
    "import numpy as np"
   ]
  },
  {
   "cell_type": "code",
   "execution_count": 31,
   "id": "0babe517",
   "metadata": {},
   "outputs": [],
   "source": [
    "dat = pd.read_csv(\"attr.csv\")\n",
    "data = dat.copy()\n",
    "pd.set_option('display.max_columns', None)"
   ]
  },
  {
   "cell_type": "code",
   "execution_count": 32,
   "id": "5588e578",
   "metadata": {},
   "outputs": [
    {
     "data": {
      "text/html": [
       "<div>\n",
       "<style scoped>\n",
       "    .dataframe tbody tr th:only-of-type {\n",
       "        vertical-align: middle;\n",
       "    }\n",
       "\n",
       "    .dataframe tbody tr th {\n",
       "        vertical-align: top;\n",
       "    }\n",
       "\n",
       "    .dataframe thead th {\n",
       "        text-align: right;\n",
       "    }\n",
       "</style>\n",
       "<table border=\"1\" class=\"dataframe\">\n",
       "  <thead>\n",
       "    <tr style=\"text-align: right;\">\n",
       "      <th></th>\n",
       "      <th>id</th>\n",
       "      <th>Age</th>\n",
       "      <th>Attrition</th>\n",
       "      <th>BusinessTravel</th>\n",
       "      <th>DailyRate</th>\n",
       "      <th>Department</th>\n",
       "      <th>DistanceFromHome</th>\n",
       "      <th>Education</th>\n",
       "      <th>EducationField</th>\n",
       "      <th>EmployeeCount</th>\n",
       "      <th>EmployeeNumber</th>\n",
       "      <th>EnvironmentSatisfaction</th>\n",
       "      <th>Gender</th>\n",
       "      <th>HourlyRate</th>\n",
       "      <th>JobInvolvement</th>\n",
       "      <th>JobLevel</th>\n",
       "      <th>JobRole</th>\n",
       "      <th>JobSatisfaction</th>\n",
       "      <th>MaritalStatus</th>\n",
       "      <th>MonthlyIncome</th>\n",
       "      <th>MonthlyRate</th>\n",
       "      <th>NumCompaniesWorked</th>\n",
       "      <th>Over18</th>\n",
       "      <th>OverTime</th>\n",
       "      <th>PercentSalaryHike</th>\n",
       "      <th>PerformanceRating</th>\n",
       "      <th>RelationshipSatisfaction</th>\n",
       "      <th>StandardHours</th>\n",
       "      <th>StockOptionLevel</th>\n",
       "      <th>TotalWorkingYears</th>\n",
       "      <th>TrainingTimesLastYear</th>\n",
       "      <th>WorkLifeBalance</th>\n",
       "      <th>YearsAtCompany</th>\n",
       "      <th>YearsInCurrentRole</th>\n",
       "      <th>YearsSinceLastPromotion</th>\n",
       "      <th>YearsWithCurrManager</th>\n",
       "    </tr>\n",
       "  </thead>\n",
       "  <tbody>\n",
       "    <tr>\n",
       "      <th>536</th>\n",
       "      <td>537</td>\n",
       "      <td>60</td>\n",
       "      <td>No</td>\n",
       "      <td>Travel_Rarely</td>\n",
       "      <td>1179</td>\n",
       "      <td>Sales</td>\n",
       "      <td>16</td>\n",
       "      <td>4</td>\n",
       "      <td>Marketing</td>\n",
       "      <td>1</td>\n",
       "      <td>732</td>\n",
       "      <td>1</td>\n",
       "      <td>Male</td>\n",
       "      <td>84</td>\n",
       "      <td>3</td>\n",
       "      <td>2</td>\n",
       "      <td>Sales Executive</td>\n",
       "      <td>1</td>\n",
       "      <td>Single</td>\n",
       "      <td>5405</td>\n",
       "      <td>11924</td>\n",
       "      <td>8</td>\n",
       "      <td>Y</td>\n",
       "      <td>No</td>\n",
       "      <td>14</td>\n",
       "      <td>3</td>\n",
       "      <td>4</td>\n",
       "      <td>80</td>\n",
       "      <td>0</td>\n",
       "      <td>10</td>\n",
       "      <td>1</td>\n",
       "      <td>3</td>\n",
       "      <td>2</td>\n",
       "      <td>2</td>\n",
       "      <td>2</td>\n",
       "      <td>2</td>\n",
       "    </tr>\n",
       "    <tr>\n",
       "      <th>10</th>\n",
       "      <td>11</td>\n",
       "      <td>35</td>\n",
       "      <td>No</td>\n",
       "      <td>Travel_Rarely</td>\n",
       "      <td>809</td>\n",
       "      <td>Research &amp; Development</td>\n",
       "      <td>16</td>\n",
       "      <td>3</td>\n",
       "      <td>Medical</td>\n",
       "      <td>1</td>\n",
       "      <td>14</td>\n",
       "      <td>1</td>\n",
       "      <td>Male</td>\n",
       "      <td>84</td>\n",
       "      <td>4</td>\n",
       "      <td>1</td>\n",
       "      <td>Laboratory Technician</td>\n",
       "      <td>2</td>\n",
       "      <td>Married</td>\n",
       "      <td>2426</td>\n",
       "      <td>16479</td>\n",
       "      <td>0</td>\n",
       "      <td>Y</td>\n",
       "      <td>No</td>\n",
       "      <td>13</td>\n",
       "      <td>3</td>\n",
       "      <td>3</td>\n",
       "      <td>80</td>\n",
       "      <td>1</td>\n",
       "      <td>6</td>\n",
       "      <td>5</td>\n",
       "      <td>3</td>\n",
       "      <td>5</td>\n",
       "      <td>4</td>\n",
       "      <td>0</td>\n",
       "      <td>3</td>\n",
       "    </tr>\n",
       "    <tr>\n",
       "      <th>708</th>\n",
       "      <td>709</td>\n",
       "      <td>36</td>\n",
       "      <td>No</td>\n",
       "      <td>Non-Travel</td>\n",
       "      <td>1229</td>\n",
       "      <td>Sales</td>\n",
       "      <td>8</td>\n",
       "      <td>4</td>\n",
       "      <td>Technical Degree</td>\n",
       "      <td>1</td>\n",
       "      <td>990</td>\n",
       "      <td>1</td>\n",
       "      <td>Male</td>\n",
       "      <td>84</td>\n",
       "      <td>3</td>\n",
       "      <td>2</td>\n",
       "      <td>Sales Executive</td>\n",
       "      <td>4</td>\n",
       "      <td>Divorced</td>\n",
       "      <td>5079</td>\n",
       "      <td>25952</td>\n",
       "      <td>4</td>\n",
       "      <td>Y</td>\n",
       "      <td>No</td>\n",
       "      <td>13</td>\n",
       "      <td>3</td>\n",
       "      <td>4</td>\n",
       "      <td>80</td>\n",
       "      <td>2</td>\n",
       "      <td>12</td>\n",
       "      <td>3</td>\n",
       "      <td>3</td>\n",
       "      <td>7</td>\n",
       "      <td>7</td>\n",
       "      <td>0</td>\n",
       "      <td>7</td>\n",
       "    </tr>\n",
       "    <tr>\n",
       "      <th>796</th>\n",
       "      <td>797</td>\n",
       "      <td>25</td>\n",
       "      <td>Yes</td>\n",
       "      <td>Travel_Rarely</td>\n",
       "      <td>1219</td>\n",
       "      <td>Research &amp; Development</td>\n",
       "      <td>4</td>\n",
       "      <td>1</td>\n",
       "      <td>Technical Degree</td>\n",
       "      <td>1</td>\n",
       "      <td>1106</td>\n",
       "      <td>4</td>\n",
       "      <td>Male</td>\n",
       "      <td>32</td>\n",
       "      <td>3</td>\n",
       "      <td>1</td>\n",
       "      <td>Laboratory Technician</td>\n",
       "      <td>4</td>\n",
       "      <td>Married</td>\n",
       "      <td>3691</td>\n",
       "      <td>4605</td>\n",
       "      <td>1</td>\n",
       "      <td>Y</td>\n",
       "      <td>Yes</td>\n",
       "      <td>15</td>\n",
       "      <td>3</td>\n",
       "      <td>2</td>\n",
       "      <td>80</td>\n",
       "      <td>1</td>\n",
       "      <td>7</td>\n",
       "      <td>3</td>\n",
       "      <td>4</td>\n",
       "      <td>7</td>\n",
       "      <td>7</td>\n",
       "      <td>5</td>\n",
       "      <td>6</td>\n",
       "    </tr>\n",
       "    <tr>\n",
       "      <th>1015</th>\n",
       "      <td>1016</td>\n",
       "      <td>34</td>\n",
       "      <td>No</td>\n",
       "      <td>Travel_Frequently</td>\n",
       "      <td>560</td>\n",
       "      <td>Research &amp; Development</td>\n",
       "      <td>1</td>\n",
       "      <td>4</td>\n",
       "      <td>Other</td>\n",
       "      <td>1</td>\n",
       "      <td>1431</td>\n",
       "      <td>4</td>\n",
       "      <td>Male</td>\n",
       "      <td>91</td>\n",
       "      <td>3</td>\n",
       "      <td>1</td>\n",
       "      <td>Research Scientist</td>\n",
       "      <td>1</td>\n",
       "      <td>Divorced</td>\n",
       "      <td>2996</td>\n",
       "      <td>20284</td>\n",
       "      <td>5</td>\n",
       "      <td>Y</td>\n",
       "      <td>No</td>\n",
       "      <td>14</td>\n",
       "      <td>3</td>\n",
       "      <td>3</td>\n",
       "      <td>80</td>\n",
       "      <td>2</td>\n",
       "      <td>10</td>\n",
       "      <td>2</td>\n",
       "      <td>3</td>\n",
       "      <td>4</td>\n",
       "      <td>3</td>\n",
       "      <td>1</td>\n",
       "      <td>3</td>\n",
       "    </tr>\n",
       "  </tbody>\n",
       "</table>\n",
       "</div>"
      ],
      "text/plain": [
       "        id  Age Attrition     BusinessTravel  DailyRate  \\\n",
       "536    537   60        No      Travel_Rarely       1179   \n",
       "10      11   35        No      Travel_Rarely        809   \n",
       "708    709   36        No         Non-Travel       1229   \n",
       "796    797   25       Yes      Travel_Rarely       1219   \n",
       "1015  1016   34        No  Travel_Frequently        560   \n",
       "\n",
       "                  Department  DistanceFromHome  Education    EducationField  \\\n",
       "536                    Sales                16          4         Marketing   \n",
       "10    Research & Development                16          3           Medical   \n",
       "708                    Sales                 8          4  Technical Degree   \n",
       "796   Research & Development                 4          1  Technical Degree   \n",
       "1015  Research & Development                 1          4             Other   \n",
       "\n",
       "      EmployeeCount  EmployeeNumber  EnvironmentSatisfaction Gender  \\\n",
       "536               1             732                        1   Male   \n",
       "10                1              14                        1   Male   \n",
       "708               1             990                        1   Male   \n",
       "796               1            1106                        4   Male   \n",
       "1015              1            1431                        4   Male   \n",
       "\n",
       "      HourlyRate  JobInvolvement  JobLevel                JobRole  \\\n",
       "536           84               3         2        Sales Executive   \n",
       "10            84               4         1  Laboratory Technician   \n",
       "708           84               3         2        Sales Executive   \n",
       "796           32               3         1  Laboratory Technician   \n",
       "1015          91               3         1     Research Scientist   \n",
       "\n",
       "      JobSatisfaction MaritalStatus  MonthlyIncome  MonthlyRate  \\\n",
       "536                 1        Single           5405        11924   \n",
       "10                  2       Married           2426        16479   \n",
       "708                 4      Divorced           5079        25952   \n",
       "796                 4       Married           3691         4605   \n",
       "1015                1      Divorced           2996        20284   \n",
       "\n",
       "      NumCompaniesWorked Over18 OverTime  PercentSalaryHike  \\\n",
       "536                    8      Y       No                 14   \n",
       "10                     0      Y       No                 13   \n",
       "708                    4      Y       No                 13   \n",
       "796                    1      Y      Yes                 15   \n",
       "1015                   5      Y       No                 14   \n",
       "\n",
       "      PerformanceRating  RelationshipSatisfaction  StandardHours  \\\n",
       "536                   3                         4             80   \n",
       "10                    3                         3             80   \n",
       "708                   3                         4             80   \n",
       "796                   3                         2             80   \n",
       "1015                  3                         3             80   \n",
       "\n",
       "      StockOptionLevel  TotalWorkingYears  TrainingTimesLastYear  \\\n",
       "536                  0                 10                      1   \n",
       "10                   1                  6                      5   \n",
       "708                  2                 12                      3   \n",
       "796                  1                  7                      3   \n",
       "1015                 2                 10                      2   \n",
       "\n",
       "      WorkLifeBalance  YearsAtCompany  YearsInCurrentRole  \\\n",
       "536                 3               2                   2   \n",
       "10                  3               5                   4   \n",
       "708                 3               7                   7   \n",
       "796                 4               7                   7   \n",
       "1015                3               4                   3   \n",
       "\n",
       "      YearsSinceLastPromotion  YearsWithCurrManager  \n",
       "536                         2                     2  \n",
       "10                          0                     3  \n",
       "708                         0                     7  \n",
       "796                         5                     6  \n",
       "1015                        1                     3  "
      ]
     },
     "execution_count": 32,
     "metadata": {},
     "output_type": "execute_result"
    }
   ],
   "source": [
    "data.sample(5)"
   ]
  },
  {
   "cell_type": "code",
   "execution_count": 33,
   "id": "06508b52",
   "metadata": {},
   "outputs": [
    {
     "name": "stdout",
     "output_type": "stream",
     "text": [
      "<class 'pandas.core.frame.DataFrame'>\n",
      "RangeIndex: 1470 entries, 0 to 1469\n",
      "Data columns (total 36 columns):\n",
      " #   Column                    Non-Null Count  Dtype \n",
      "---  ------                    --------------  ----- \n",
      " 0   id                        1470 non-null   int64 \n",
      " 1   Age                       1470 non-null   int64 \n",
      " 2   Attrition                 1470 non-null   object\n",
      " 3   BusinessTravel            1470 non-null   object\n",
      " 4   DailyRate                 1470 non-null   int64 \n",
      " 5   Department                1470 non-null   object\n",
      " 6   DistanceFromHome          1470 non-null   int64 \n",
      " 7   Education                 1470 non-null   int64 \n",
      " 8   EducationField            1470 non-null   object\n",
      " 9   EmployeeCount             1470 non-null   int64 \n",
      " 10  EmployeeNumber            1470 non-null   int64 \n",
      " 11  EnvironmentSatisfaction   1470 non-null   int64 \n",
      " 12  Gender                    1470 non-null   object\n",
      " 13  HourlyRate                1470 non-null   int64 \n",
      " 14  JobInvolvement            1470 non-null   int64 \n",
      " 15  JobLevel                  1470 non-null   int64 \n",
      " 16  JobRole                   1470 non-null   object\n",
      " 17  JobSatisfaction           1470 non-null   int64 \n",
      " 18  MaritalStatus             1470 non-null   object\n",
      " 19  MonthlyIncome             1470 non-null   int64 \n",
      " 20  MonthlyRate               1470 non-null   int64 \n",
      " 21  NumCompaniesWorked        1470 non-null   int64 \n",
      " 22  Over18                    1470 non-null   object\n",
      " 23  OverTime                  1470 non-null   object\n",
      " 24  PercentSalaryHike         1470 non-null   int64 \n",
      " 25  PerformanceRating         1470 non-null   int64 \n",
      " 26  RelationshipSatisfaction  1470 non-null   int64 \n",
      " 27  StandardHours             1470 non-null   int64 \n",
      " 28  StockOptionLevel          1470 non-null   int64 \n",
      " 29  TotalWorkingYears         1470 non-null   int64 \n",
      " 30  TrainingTimesLastYear     1470 non-null   int64 \n",
      " 31  WorkLifeBalance           1470 non-null   int64 \n",
      " 32  YearsAtCompany            1470 non-null   int64 \n",
      " 33  YearsInCurrentRole        1470 non-null   int64 \n",
      " 34  YearsSinceLastPromotion   1470 non-null   int64 \n",
      " 35  YearsWithCurrManager      1470 non-null   int64 \n",
      "dtypes: int64(27), object(9)\n",
      "memory usage: 413.6+ KB\n"
     ]
    }
   ],
   "source": [
    "data.info()"
   ]
  },
  {
   "cell_type": "markdown",
   "id": "ef26b42e",
   "metadata": {},
   "source": [
    "The `data.info()` allows us to see a quick overview of our data and with that we were able to deduce that the data has no missing values and it also has 36 columns and 1470 rows of data, with each column being either an integer ot an object"
   ]
  },
  {
   "cell_type": "markdown",
   "id": "85d19c80",
   "metadata": {},
   "source": [
    "# Cleaning the data column by column"
   ]
  },
  {
   "cell_type": "markdown",
   "id": "026e069e",
   "metadata": {},
   "source": [
    "### Age"
   ]
  },
  {
   "cell_type": "markdown",
   "id": "3b632455",
   "metadata": {},
   "source": [
    "For this we can create a bin of ages but for that we would have to get the youngest and oldest age in the column so we know how to create the bin"
   ]
  },
  {
   "cell_type": "code",
   "execution_count": 34,
   "id": "9ffd935b",
   "metadata": {},
   "outputs": [
    {
     "name": "stdout",
     "output_type": "stream",
     "text": [
      "18, 19, 20, 21, 22, 23, 24, 25, 26, 27, 28, 29, 30, 31, 32, 33, 34, 35, 36, 37, 38, 39, 40, 41, 42, 43, 44, 45, 46, 47, 48, 49, 50, 51, 52, 53, 54, 55, 56, 57, 58, 59, 60, "
     ]
    }
   ],
   "source": [
    "for i in sorted(data.Age.unique()):\n",
    "    print(i, end=\", \")"
   ]
  },
  {
   "cell_type": "code",
   "execution_count": 35,
   "id": "d54189ec",
   "metadata": {},
   "outputs": [
    {
     "name": "stdout",
     "output_type": "stream",
     "text": [
      "The youngest age in the data is 18\n",
      "The oldest age in the data is 60\n"
     ]
    }
   ],
   "source": [
    "print(f\"The youngest age in the data is {data.Age.unique().min()}\\n\\\n",
    "The oldest age in the data is {data.Age.unique().max()}\")"
   ]
  },
  {
   "cell_type": "code",
   "execution_count": 36,
   "id": "07ac6aa7",
   "metadata": {},
   "outputs": [],
   "source": [
    "bins = [18, 20, 30, 40, 50, 60]\n",
    "group = ['<20', '20-29', '30-39', '40-49', '50-59']\n",
    "\n",
    "# Filling NaN with 60+ because we used the right False keyword which will by default ignore the rightmost digit (60)\n",
    "data['AgeGroup'] = pd.cut(data['Age'], bins=bins, labels=group, right=False).cat.add_categories('60+').fillna('60+')\n",
    "\n",
    "# Checking the changes\n",
    "data['AgeGroup'].unique()"
   ]
  },
  {
   "cell_type": "markdown",
   "id": "de84e1e8",
   "metadata": {},
   "source": [
    "### Attrition"
   ]
  },
  {
   "cell_type": "code",
   "execution_count": 39,
   "id": "eb3a737f",
   "metadata": {},
   "outputs": [
    {
     "data": {
      "text/plain": [
       "array(['Yes', 'No'], dtype=object)"
      ]
     },
     "execution_count": 39,
     "metadata": {},
     "output_type": "execute_result"
    }
   ],
   "source": [
    "data.Attrition.unique()"
   ]
  },
  {
   "cell_type": "markdown",
   "id": "5225e25f",
   "metadata": {},
   "source": [
    "Everything looks okay here so we move on to the next\n",
    "### Business Travel"
   ]
  },
  {
   "cell_type": "code",
   "execution_count": 40,
   "id": "171b3228",
   "metadata": {},
   "outputs": [
    {
     "data": {
      "text/plain": [
       "array(['Travel_Rarely', 'Travel_Frequently', 'Non-Travel'], dtype=object)"
      ]
     },
     "execution_count": 40,
     "metadata": {},
     "output_type": "execute_result"
    }
   ],
   "source": [
    "data.BusinessTravel.unique()"
   ]
  },
  {
   "cell_type": "code",
   "execution_count": 41,
   "id": "40590b73",
   "metadata": {},
   "outputs": [
    {
     "data": {
      "text/plain": [
       "array(['Travel Rarely', 'Travel Frequently', 'Non Travel'], dtype=object)"
      ]
     },
     "execution_count": 41,
     "metadata": {},
     "output_type": "execute_result"
    }
   ],
   "source": [
    "data.BusinessTravel = data.BusinessTravel.str.replace('_', ' ').str.replace(\"-\", \" \")\n",
    "\n",
    "# Checking the changes\n",
    "data.BusinessTravel.unique()"
   ]
  },
  {
   "cell_type": "markdown",
   "id": "ffd02832",
   "metadata": {},
   "source": [
    "Everything looks okay here so we move on to the next\n",
    "### Department"
   ]
  },
  {
   "cell_type": "code",
   "execution_count": 42,
   "id": "cebcd494",
   "metadata": {},
   "outputs": [
    {
     "data": {
      "text/plain": [
       "array(['Sales', 'Research & Development', 'Human Resources'], dtype=object)"
      ]
     },
     "execution_count": 42,
     "metadata": {},
     "output_type": "execute_result"
    }
   ],
   "source": [
    "data.Department.unique()"
   ]
  },
  {
   "cell_type": "markdown",
   "id": "49955e44",
   "metadata": {},
   "source": [
    "Everything looks okay here so we move on to the next\n",
    "### Distance From Home"
   ]
  },
  {
   "cell_type": "code",
   "execution_count": 43,
   "id": "e6a77f81",
   "metadata": {},
   "outputs": [
    {
     "name": "stdout",
     "output_type": "stream",
     "text": [
      "1, 2, 3, 4, 5, 6, 7, 8, 9, 10, 11, 12, 13, 14, 15, 16, 17, 18, 19, 20, 21, 22, 23, 24, 25, 26, 27, 28, 29, "
     ]
    }
   ],
   "source": [
    "for i in sorted(data.DistanceFromHome.unique()):\n",
    "    print(i, end=', ')"
   ]
  },
  {
   "cell_type": "code",
   "execution_count": 44,
   "id": "62f888b1",
   "metadata": {},
   "outputs": [],
   "source": [
    "# I will create a bin for the distance\n",
    "bins = [1, 11, 20, 30]\n",
    "labels = ['Very Close', 'Close', 'Far']\n",
    "data['DistanceFrom_Home'] = pd.cut(data['DistanceFromHome'], bins=bins, labels=labels, right=False)"
   ]
  },
  {
   "cell_type": "markdown",
   "id": "7b7bc837",
   "metadata": {},
   "source": [
    "Everything looks okay here so we move on to the next\n",
    "### Education"
   ]
  },
  {
   "cell_type": "code",
   "execution_count": 45,
   "id": "3e368880",
   "metadata": {},
   "outputs": [
    {
     "data": {
      "text/plain": [
       "array([2, 1, 4, 3, 5], dtype=int64)"
      ]
     },
     "execution_count": 45,
     "metadata": {},
     "output_type": "execute_result"
    }
   ],
   "source": [
    "data.Education.unique()"
   ]
  },
  {
   "cell_type": "code",
   "execution_count": 46,
   "id": "97c4d081",
   "metadata": {},
   "outputs": [],
   "source": [
    "data.Education =  data.Education.map({1: \"Below College\",\n",
    "                                      2: \"College\",\n",
    "                                      3: \"Bachelor\",\n",
    "                                      4: \"Master\",\n",
    "                                      5: \"Doctor\"})"
   ]
  },
  {
   "cell_type": "code",
   "execution_count": 47,
   "id": "b61d4afe",
   "metadata": {},
   "outputs": [
    {
     "data": {
      "text/plain": [
       "array(['College', 'Below College', 'Master', 'Bachelor', 'Doctor'],\n",
       "      dtype=object)"
      ]
     },
     "execution_count": 47,
     "metadata": {},
     "output_type": "execute_result"
    }
   ],
   "source": [
    "data.Education.unique()"
   ]
  },
  {
   "cell_type": "markdown",
   "id": "a69b9d84",
   "metadata": {},
   "source": [
    "Everything looks okay here so we move on to the next\n",
    "### Education Field"
   ]
  },
  {
   "cell_type": "code",
   "execution_count": 48,
   "id": "fcef3058",
   "metadata": {},
   "outputs": [
    {
     "data": {
      "text/plain": [
       "array(['Life Sciences', 'Other', 'Medical', 'Marketing',\n",
       "       'Technical Degree', 'Human Resources'], dtype=object)"
      ]
     },
     "execution_count": 48,
     "metadata": {},
     "output_type": "execute_result"
    }
   ],
   "source": [
    "data.EducationField.unique()"
   ]
  },
  {
   "cell_type": "markdown",
   "id": "46708dd8",
   "metadata": {},
   "source": [
    "Everything looks okay here so we move on to the next\n",
    "### Employee Count"
   ]
  },
  {
   "cell_type": "code",
   "execution_count": 49,
   "id": "0fba0b3b",
   "metadata": {},
   "outputs": [
    {
     "data": {
      "text/plain": [
       "array([1], dtype=int64)"
      ]
     },
     "execution_count": 49,
     "metadata": {},
     "output_type": "execute_result"
    }
   ],
   "source": [
    "data.EmployeeCount.unique()"
   ]
  },
  {
   "cell_type": "markdown",
   "id": "dd25deaf",
   "metadata": {},
   "source": [
    "Everything looks okay here so we move on to the next\n",
    "### Environment Satisfaction | Job Satisfaction | Relationship Satisfaction | Job Involvement"
   ]
  },
  {
   "cell_type": "code",
   "execution_count": 50,
   "id": "574f278f",
   "metadata": {},
   "outputs": [
    {
     "name": "stdout",
     "output_type": "stream",
     "text": [
      " PRE-MAPPING\n",
      " -----------\n",
      "EnvironmentSatisfaction\n",
      "[2 3 4 1]\n",
      "\n",
      "RelationshipSatisfaction\n",
      "[1 4 2 3]\n",
      "\n",
      "JobInvolvement\n",
      "[3 2 4 1]\n",
      "\n",
      "JobSatisfaction\n",
      "[4 2 3 1]\n",
      "\n"
     ]
    }
   ],
   "source": [
    "columns = ['EnvironmentSatisfaction', 'RelationshipSatisfaction', 'JobInvolvement', 'JobSatisfaction']\n",
    "\n",
    "# Confirming unique values of all four columns\n",
    "print(\" PRE-MAPPING\\n\", \"-\" * 11)\n",
    "for i in columns:\n",
    "    print(f\"{i}\\n{data[i].unique()}\\n\")"
   ]
  },
  {
   "cell_type": "markdown",
   "id": "c3d991b6",
   "metadata": {},
   "source": [
    "**They all have similarities in their unique values so I can create a function for all of them.**"
   ]
  },
  {
   "cell_type": "code",
   "execution_count": 51,
   "id": "d6a5550c",
   "metadata": {},
   "outputs": [
    {
     "name": "stdout",
     "output_type": "stream",
     "text": [
      "EnvironmentSatisfaction - Updated Succesfully\n",
      "\n",
      "RelationshipSatisfaction - Updated Succesfully\n",
      "\n",
      "JobInvolvement - Updated Succesfully\n",
      "\n",
      "JobSatisfaction - Updated Succesfully\n",
      "\n"
     ]
    }
   ],
   "source": [
    "# Define a funciton to map all four columns\n",
    "def four_options(value):\n",
    "    data[value] = data[value].map({1: 'Low',\n",
    "                                       2: 'Medium',\n",
    "                                       3: 'High',\n",
    "                                       4: 'Very High'})\n",
    "\n",
    "# For loop to implement mapping\n",
    "for i in columns:\n",
    "    four_options(i)\n",
    "    print(f\"{i} - Updated Succesfully\\n\")"
   ]
  },
  {
   "cell_type": "code",
   "execution_count": 52,
   "id": "2cb1ae6d",
   "metadata": {},
   "outputs": [
    {
     "name": "stdout",
     "output_type": "stream",
     "text": [
      " POST-MAPPING\n",
      " -----------\n",
      "EnvironmentSatisfaction\n",
      "['Medium' 'High' 'Very High' 'Low']\n",
      "\n",
      "RelationshipSatisfaction\n",
      "['Low' 'Very High' 'Medium' 'High']\n",
      "\n",
      "JobInvolvement\n",
      "['High' 'Medium' 'Very High' 'Low']\n",
      "\n",
      "JobSatisfaction\n",
      "['Very High' 'Medium' 'High' 'Low']\n",
      "\n"
     ]
    }
   ],
   "source": [
    "# After mapping; check unique values again\n",
    "print(\" POST-MAPPING\\n\", \"-\" * 11)\n",
    "for i in columns:\n",
    "    print(f\"{i}\\n{data[i].unique()}\\n\")"
   ]
  },
  {
   "cell_type": "markdown",
   "id": "e0a6338b",
   "metadata": {},
   "source": [
    "Everything looks okay here so we move on to the next\n",
    "### Gender"
   ]
  },
  {
   "cell_type": "code",
   "execution_count": 53,
   "id": "2141741f",
   "metadata": {},
   "outputs": [
    {
     "data": {
      "text/plain": [
       "array(['Female', 'Male'], dtype=object)"
      ]
     },
     "execution_count": 53,
     "metadata": {},
     "output_type": "execute_result"
    }
   ],
   "source": [
    "data.Gender.unique()"
   ]
  },
  {
   "cell_type": "markdown",
   "id": "723288a5",
   "metadata": {},
   "source": [
    "Everything looks okay here so we move on to the next\n",
    "### Job Level | Stock Option Level"
   ]
  },
  {
   "cell_type": "code",
   "execution_count": 54,
   "id": "ffb10a2a",
   "metadata": {},
   "outputs": [
    {
     "name": "stdout",
     "output_type": "stream",
     "text": [
      " PRE-MAPPING\n",
      " -----------\n",
      "JobLevel\n",
      "[2 1 3 4 5]\n",
      "\n",
      "StockOptionLevel\n",
      "[0 1 3 2]\n",
      "\n"
     ]
    }
   ],
   "source": [
    "lvl_columns = ['JobLevel', 'StockOptionLevel']\n",
    "\n",
    "# Confirming unique values of all four columns\n",
    "print(\" PRE-MAPPING\\n\", \"-\" * 11)\n",
    "for i in lvl_columns:\n",
    "    print(f\"{i}\\n{data[i].unique()}\\n\")"
   ]
  },
  {
   "cell_type": "markdown",
   "id": "10f78480",
   "metadata": {},
   "source": [
    "**The purpose of this function is to make viewers understand that these columns are talking about Level so I am adding 'Lvl' to mean \"Level\".**"
   ]
  },
  {
   "cell_type": "code",
   "execution_count": 55,
   "id": "9e6be8b0",
   "metadata": {},
   "outputs": [
    {
     "name": "stdout",
     "output_type": "stream",
     "text": [
      "JobLevel - Updated Succesfully\n",
      "\n",
      "StockOptionLevel - Updated Succesfully\n",
      "\n"
     ]
    }
   ],
   "source": [
    "# Define a funciton to add level to both colunms\n",
    "def level_columns(value):\n",
    "    data[value] = \"Lvl \" + data[value].astype(str)\n",
    "\n",
    "\n",
    "# Implementing the change\n",
    "for i in lvl_columns:\n",
    "    level_columns(i)\n",
    "    print(f\"{i} - Updated Succesfully\\n\")"
   ]
  },
  {
   "cell_type": "code",
   "execution_count": 56,
   "id": "831ed182",
   "metadata": {},
   "outputs": [
    {
     "name": "stdout",
     "output_type": "stream",
     "text": [
      " POST-MAPPING\n",
      " -----------\n",
      "JobLevel\n",
      "['Lvl 2' 'Lvl 1' 'Lvl 3' 'Lvl 4' 'Lvl 5']\n",
      "\n",
      "StockOptionLevel\n",
      "['Lvl 0' 'Lvl 1' 'Lvl 3' 'Lvl 2']\n",
      "\n"
     ]
    }
   ],
   "source": [
    "print(\" POST-MAPPING\\n\", \"-\" * 11)\n",
    "for i in lvl_columns:\n",
    "    print(f\"{i}\\n{data[i].unique()}\\n\")"
   ]
  },
  {
   "cell_type": "markdown",
   "id": "99c9be46",
   "metadata": {},
   "source": [
    "Everything looks okay here so we move on to the next\n",
    "### Job Role"
   ]
  },
  {
   "cell_type": "code",
   "execution_count": 57,
   "id": "7bfa2476",
   "metadata": {},
   "outputs": [
    {
     "data": {
      "text/plain": [
       "array(['Sales Executive', 'Research Scientist', 'Laboratory Technician',\n",
       "       'Manufacturing Director', 'Healthcare Representative', 'Manager',\n",
       "       'Sales Representative', 'Research Director', 'Human Resources'],\n",
       "      dtype=object)"
      ]
     },
     "execution_count": 57,
     "metadata": {},
     "output_type": "execute_result"
    }
   ],
   "source": [
    "data.JobRole.unique()"
   ]
  },
  {
   "cell_type": "markdown",
   "id": "609563cf",
   "metadata": {},
   "source": [
    "Everything looks okay here so we move on to the next\n",
    "### Marital Status"
   ]
  },
  {
   "cell_type": "code",
   "execution_count": 58,
   "id": "3ad451c3",
   "metadata": {},
   "outputs": [
    {
     "data": {
      "text/plain": [
       "array(['Single', 'Married', 'Divorced'], dtype=object)"
      ]
     },
     "execution_count": 58,
     "metadata": {},
     "output_type": "execute_result"
    }
   ],
   "source": [
    "data.MaritalStatus.unique()"
   ]
  },
  {
   "cell_type": "markdown",
   "id": "53d721a6",
   "metadata": {},
   "source": [
    "Everything looks okay here so we move on to the next\n",
    "### OverTime"
   ]
  },
  {
   "cell_type": "code",
   "execution_count": 59,
   "id": "760d954e",
   "metadata": {},
   "outputs": [
    {
     "data": {
      "text/plain": [
       "array(['Yes', 'No'], dtype=object)"
      ]
     },
     "execution_count": 59,
     "metadata": {},
     "output_type": "execute_result"
    }
   ],
   "source": [
    "data.OverTime.unique()"
   ]
  },
  {
   "cell_type": "markdown",
   "id": "7a4234cf",
   "metadata": {},
   "source": [
    "Everything looks okay here so we move on to the next\n",
    "### Performance Rating"
   ]
  },
  {
   "cell_type": "code",
   "execution_count": 60,
   "id": "0713b953",
   "metadata": {},
   "outputs": [
    {
     "data": {
      "text/plain": [
       "array([3, 4], dtype=int64)"
      ]
     },
     "execution_count": 60,
     "metadata": {},
     "output_type": "execute_result"
    }
   ],
   "source": [
    "data.PerformanceRating.unique()"
   ]
  },
  {
   "cell_type": "code",
   "execution_count": 61,
   "id": "4cac23a6",
   "metadata": {},
   "outputs": [],
   "source": [
    "data.PerformanceRating = data.PerformanceRating.map({3: \"Excellent\",\n",
    "                                                     4: \"Outstanding\"})"
   ]
  },
  {
   "cell_type": "code",
   "execution_count": 62,
   "id": "2aefbb5b",
   "metadata": {},
   "outputs": [
    {
     "data": {
      "text/plain": [
       "array(['Excellent', 'Outstanding'], dtype=object)"
      ]
     },
     "execution_count": 62,
     "metadata": {},
     "output_type": "execute_result"
    }
   ],
   "source": [
    "data.PerformanceRating.unique()"
   ]
  },
  {
   "cell_type": "markdown",
   "id": "30d676fd",
   "metadata": {},
   "source": [
    "Everything looks okay here so we move on to the next\n",
    "### Work-Life Balance"
   ]
  },
  {
   "cell_type": "code",
   "execution_count": 63,
   "id": "049f0687",
   "metadata": {},
   "outputs": [
    {
     "data": {
      "text/plain": [
       "array([1, 3, 2, 4], dtype=int64)"
      ]
     },
     "execution_count": 63,
     "metadata": {},
     "output_type": "execute_result"
    }
   ],
   "source": [
    "data.WorkLifeBalance.unique()"
   ]
  },
  {
   "cell_type": "code",
   "execution_count": 64,
   "id": "feb27878",
   "metadata": {},
   "outputs": [],
   "source": [
    "data.WorkLifeBalance = data.WorkLifeBalance.map({1: 'Bad',\n",
    "                                                 2: 'Good',\n",
    "                                                 3: 'Better',\n",
    "                                                 4: 'Best'})"
   ]
  },
  {
   "cell_type": "code",
   "execution_count": 65,
   "id": "99a924f7",
   "metadata": {},
   "outputs": [
    {
     "data": {
      "text/plain": [
       "array(['Bad', 'Better', 'Good', 'Best'], dtype=object)"
      ]
     },
     "execution_count": 65,
     "metadata": {},
     "output_type": "execute_result"
    }
   ],
   "source": [
    "data.WorkLifeBalance.unique()"
   ]
  },
  {
   "cell_type": "markdown",
   "id": "51629e72",
   "metadata": {},
   "source": [
    "Everything looks okay here so we move on to the next\n",
    "### All columns that deals with years"
   ]
  },
  {
   "cell_type": "code",
   "execution_count": 66,
   "id": "d67a9c3f",
   "metadata": {},
   "outputs": [
    {
     "name": "stdout",
     "output_type": "stream",
     "text": [
      "TotalWorkingYears - Updated Succesfully\n",
      "\n",
      "YearsAtCompany - Updated Succesfully\n",
      "\n"
     ]
    }
   ],
   "source": [
    "# We start by creating BINS for this year group\n",
    "bins = [0, 10, 20, 30]\n",
    "group = ['0-10 years', '11-20 years', '21-29 years']\n",
    "\n",
    "# Creating BINS\n",
    "column = ['TotalWorkingYears', 'YearsAtCompany']\n",
    "\n",
    "# Define a function to create the BINS\n",
    "def create_bins(column):\n",
    "        data[column] = pd.cut(data[column],\n",
    "                               bins=bins,\n",
    "                               labels=group,\n",
    "                               right=False).cat.add_categories('31-40 years').fillna('31-40 years')\n",
    "\n",
    "\n",
    "# Using the function created in a for loop\n",
    "for i in column:\n",
    "    create_bins(i)\n",
    "    print(f\"{i} - Updated Succesfully\\n\")"
   ]
  },
  {
   "cell_type": "code",
   "execution_count": 67,
   "id": "b050dd41",
   "metadata": {},
   "outputs": [
    {
     "name": "stdout",
     "output_type": "stream",
     "text": [
      "TrainingTimesLastYear - Updated Succesfully\n",
      "\n",
      "YearsInCurrentRole - Updated Succesfully\n",
      "\n",
      "YearsSinceLastPromotion - Updated Succesfully\n",
      "\n",
      "YearsWithCurrManager - Updated Succesfully\n",
      "\n"
     ]
    }
   ],
   "source": [
    "# Appending years to the remainig data that deals with years\n",
    "yrs = ['TrainingTimesLastYear', 'YearsInCurrentRole', 'YearsSinceLastPromotion', 'YearsWithCurrManager']\n",
    "\n",
    "# Funciton to append years or year to data\n",
    "def years(col):\n",
    "    data[col] = data[col].astype(str) + \" \" + np.where(data[col] == 0, 'year', 'years')\n",
    "\n",
    "# For loop to use the years() function\n",
    "for i in yrs:\n",
    "    years(i)\n",
    "    print(f\"{i} - Updated Succesfully\\n\")"
   ]
  },
  {
   "cell_type": "code",
   "execution_count": 68,
   "id": "1cdda568",
   "metadata": {},
   "outputs": [
    {
     "data": {
      "text/html": [
       "<div>\n",
       "<style scoped>\n",
       "    .dataframe tbody tr th:only-of-type {\n",
       "        vertical-align: middle;\n",
       "    }\n",
       "\n",
       "    .dataframe tbody tr th {\n",
       "        vertical-align: top;\n",
       "    }\n",
       "\n",
       "    .dataframe thead th {\n",
       "        text-align: right;\n",
       "    }\n",
       "</style>\n",
       "<table border=\"1\" class=\"dataframe\">\n",
       "  <thead>\n",
       "    <tr style=\"text-align: right;\">\n",
       "      <th></th>\n",
       "      <th>id</th>\n",
       "      <th>Age</th>\n",
       "      <th>Attrition</th>\n",
       "      <th>BusinessTravel</th>\n",
       "      <th>DailyRate</th>\n",
       "      <th>Department</th>\n",
       "      <th>DistanceFromHome</th>\n",
       "      <th>Education</th>\n",
       "      <th>EducationField</th>\n",
       "      <th>EmployeeCount</th>\n",
       "      <th>EmployeeNumber</th>\n",
       "      <th>EnvironmentSatisfaction</th>\n",
       "      <th>Gender</th>\n",
       "      <th>HourlyRate</th>\n",
       "      <th>JobInvolvement</th>\n",
       "      <th>JobLevel</th>\n",
       "      <th>JobRole</th>\n",
       "      <th>JobSatisfaction</th>\n",
       "      <th>MaritalStatus</th>\n",
       "      <th>MonthlyIncome</th>\n",
       "      <th>MonthlyRate</th>\n",
       "      <th>NumCompaniesWorked</th>\n",
       "      <th>Over18</th>\n",
       "      <th>OverTime</th>\n",
       "      <th>PercentSalaryHike</th>\n",
       "      <th>PerformanceRating</th>\n",
       "      <th>RelationshipSatisfaction</th>\n",
       "      <th>StandardHours</th>\n",
       "      <th>StockOptionLevel</th>\n",
       "      <th>TotalWorkingYears</th>\n",
       "      <th>TrainingTimesLastYear</th>\n",
       "      <th>WorkLifeBalance</th>\n",
       "      <th>YearsAtCompany</th>\n",
       "      <th>YearsInCurrentRole</th>\n",
       "      <th>YearsSinceLastPromotion</th>\n",
       "      <th>YearsWithCurrManager</th>\n",
       "      <th>AgeGroup</th>\n",
       "      <th>DistanceFrom_Home</th>\n",
       "    </tr>\n",
       "  </thead>\n",
       "  <tbody>\n",
       "    <tr>\n",
       "      <th>1323</th>\n",
       "      <td>1324</td>\n",
       "      <td>28</td>\n",
       "      <td>No</td>\n",
       "      <td>Non Travel</td>\n",
       "      <td>280</td>\n",
       "      <td>Human Resources</td>\n",
       "      <td>1</td>\n",
       "      <td>College</td>\n",
       "      <td>Life Sciences</td>\n",
       "      <td>1</td>\n",
       "      <td>1858</td>\n",
       "      <td>High</td>\n",
       "      <td>Male</td>\n",
       "      <td>43</td>\n",
       "      <td>High</td>\n",
       "      <td>Lvl 1</td>\n",
       "      <td>Human Resources</td>\n",
       "      <td>Very High</td>\n",
       "      <td>Divorced</td>\n",
       "      <td>2706</td>\n",
       "      <td>10494</td>\n",
       "      <td>1</td>\n",
       "      <td>Y</td>\n",
       "      <td>No</td>\n",
       "      <td>15</td>\n",
       "      <td>Excellent</td>\n",
       "      <td>Medium</td>\n",
       "      <td>80</td>\n",
       "      <td>Lvl 1</td>\n",
       "      <td>0-10 years</td>\n",
       "      <td>2 years</td>\n",
       "      <td>Better</td>\n",
       "      <td>0-10 years</td>\n",
       "      <td>2 years</td>\n",
       "      <td>2 years</td>\n",
       "      <td>2 years</td>\n",
       "      <td>20-29</td>\n",
       "      <td>Very Close</td>\n",
       "    </tr>\n",
       "    <tr>\n",
       "      <th>896</th>\n",
       "      <td>897</td>\n",
       "      <td>31</td>\n",
       "      <td>No</td>\n",
       "      <td>Travel Rarely</td>\n",
       "      <td>1062</td>\n",
       "      <td>Research &amp; Development</td>\n",
       "      <td>24</td>\n",
       "      <td>Bachelor</td>\n",
       "      <td>Medical</td>\n",
       "      <td>1</td>\n",
       "      <td>1252</td>\n",
       "      <td>High</td>\n",
       "      <td>Female</td>\n",
       "      <td>96</td>\n",
       "      <td>Medium</td>\n",
       "      <td>Lvl 2</td>\n",
       "      <td>Healthcare Representative</td>\n",
       "      <td>Low</td>\n",
       "      <td>Single</td>\n",
       "      <td>6812</td>\n",
       "      <td>17198</td>\n",
       "      <td>1</td>\n",
       "      <td>Y</td>\n",
       "      <td>No</td>\n",
       "      <td>19</td>\n",
       "      <td>Excellent</td>\n",
       "      <td>Medium</td>\n",
       "      <td>80</td>\n",
       "      <td>Lvl 0</td>\n",
       "      <td>11-20 years</td>\n",
       "      <td>2 years</td>\n",
       "      <td>Better</td>\n",
       "      <td>11-20 years</td>\n",
       "      <td>9 years</td>\n",
       "      <td>1 years</td>\n",
       "      <td>8 years</td>\n",
       "      <td>30-39</td>\n",
       "      <td>Far</td>\n",
       "    </tr>\n",
       "    <tr>\n",
       "      <th>713</th>\n",
       "      <td>714</td>\n",
       "      <td>45</td>\n",
       "      <td>No</td>\n",
       "      <td>Travel Rarely</td>\n",
       "      <td>974</td>\n",
       "      <td>Research &amp; Development</td>\n",
       "      <td>1</td>\n",
       "      <td>Master</td>\n",
       "      <td>Medical</td>\n",
       "      <td>1</td>\n",
       "      <td>996</td>\n",
       "      <td>Very High</td>\n",
       "      <td>Female</td>\n",
       "      <td>91</td>\n",
       "      <td>High</td>\n",
       "      <td>Lvl 1</td>\n",
       "      <td>Laboratory Technician</td>\n",
       "      <td>Very High</td>\n",
       "      <td>Divorced</td>\n",
       "      <td>2270</td>\n",
       "      <td>11005</td>\n",
       "      <td>3</td>\n",
       "      <td>Y</td>\n",
       "      <td>No</td>\n",
       "      <td>14</td>\n",
       "      <td>Excellent</td>\n",
       "      <td>Very High</td>\n",
       "      <td>80</td>\n",
       "      <td>Lvl 2</td>\n",
       "      <td>0-10 years</td>\n",
       "      <td>2 years</td>\n",
       "      <td>Better</td>\n",
       "      <td>0-10 years</td>\n",
       "      <td>3 years</td>\n",
       "      <td>0 year</td>\n",
       "      <td>2 years</td>\n",
       "      <td>40-49</td>\n",
       "      <td>Very Close</td>\n",
       "    </tr>\n",
       "    <tr>\n",
       "      <th>167</th>\n",
       "      <td>168</td>\n",
       "      <td>30</td>\n",
       "      <td>No</td>\n",
       "      <td>Travel Rarely</td>\n",
       "      <td>1339</td>\n",
       "      <td>Sales</td>\n",
       "      <td>5</td>\n",
       "      <td>Bachelor</td>\n",
       "      <td>Life Sciences</td>\n",
       "      <td>1</td>\n",
       "      <td>228</td>\n",
       "      <td>Medium</td>\n",
       "      <td>Female</td>\n",
       "      <td>41</td>\n",
       "      <td>High</td>\n",
       "      <td>Lvl 3</td>\n",
       "      <td>Sales Executive</td>\n",
       "      <td>Very High</td>\n",
       "      <td>Married</td>\n",
       "      <td>9419</td>\n",
       "      <td>8053</td>\n",
       "      <td>2</td>\n",
       "      <td>Y</td>\n",
       "      <td>No</td>\n",
       "      <td>12</td>\n",
       "      <td>Excellent</td>\n",
       "      <td>High</td>\n",
       "      <td>80</td>\n",
       "      <td>Lvl 1</td>\n",
       "      <td>11-20 years</td>\n",
       "      <td>2 years</td>\n",
       "      <td>Better</td>\n",
       "      <td>11-20 years</td>\n",
       "      <td>9 years</td>\n",
       "      <td>7 years</td>\n",
       "      <td>4 years</td>\n",
       "      <td>30-39</td>\n",
       "      <td>Very Close</td>\n",
       "    </tr>\n",
       "  </tbody>\n",
       "</table>\n",
       "</div>"
      ],
      "text/plain": [
       "        id  Age Attrition BusinessTravel  DailyRate              Department  \\\n",
       "1323  1324   28        No     Non Travel        280         Human Resources   \n",
       "896    897   31        No  Travel Rarely       1062  Research & Development   \n",
       "713    714   45        No  Travel Rarely        974  Research & Development   \n",
       "167    168   30        No  Travel Rarely       1339                   Sales   \n",
       "\n",
       "      DistanceFromHome Education EducationField  EmployeeCount  \\\n",
       "1323                 1   College  Life Sciences              1   \n",
       "896                 24  Bachelor        Medical              1   \n",
       "713                  1    Master        Medical              1   \n",
       "167                  5  Bachelor  Life Sciences              1   \n",
       "\n",
       "      EmployeeNumber EnvironmentSatisfaction  Gender  HourlyRate  \\\n",
       "1323            1858                    High    Male          43   \n",
       "896             1252                    High  Female          96   \n",
       "713              996               Very High  Female          91   \n",
       "167              228                  Medium  Female          41   \n",
       "\n",
       "     JobInvolvement JobLevel                    JobRole JobSatisfaction  \\\n",
       "1323           High    Lvl 1            Human Resources       Very High   \n",
       "896          Medium    Lvl 2  Healthcare Representative             Low   \n",
       "713            High    Lvl 1      Laboratory Technician       Very High   \n",
       "167            High    Lvl 3            Sales Executive       Very High   \n",
       "\n",
       "     MaritalStatus  MonthlyIncome  MonthlyRate  NumCompaniesWorked Over18  \\\n",
       "1323      Divorced           2706        10494                   1      Y   \n",
       "896         Single           6812        17198                   1      Y   \n",
       "713       Divorced           2270        11005                   3      Y   \n",
       "167        Married           9419         8053                   2      Y   \n",
       "\n",
       "     OverTime  PercentSalaryHike PerformanceRating RelationshipSatisfaction  \\\n",
       "1323       No                 15         Excellent                   Medium   \n",
       "896        No                 19         Excellent                   Medium   \n",
       "713        No                 14         Excellent                Very High   \n",
       "167        No                 12         Excellent                     High   \n",
       "\n",
       "      StandardHours StockOptionLevel TotalWorkingYears TrainingTimesLastYear  \\\n",
       "1323             80            Lvl 1        0-10 years               2 years   \n",
       "896              80            Lvl 0       11-20 years               2 years   \n",
       "713              80            Lvl 2        0-10 years               2 years   \n",
       "167              80            Lvl 1       11-20 years               2 years   \n",
       "\n",
       "     WorkLifeBalance YearsAtCompany YearsInCurrentRole  \\\n",
       "1323          Better     0-10 years            2 years   \n",
       "896           Better    11-20 years            9 years   \n",
       "713           Better     0-10 years            3 years   \n",
       "167           Better    11-20 years            9 years   \n",
       "\n",
       "     YearsSinceLastPromotion YearsWithCurrManager AgeGroup DistanceFrom_Home  \n",
       "1323                 2 years              2 years    20-29        Very Close  \n",
       "896                  1 years              8 years    30-39               Far  \n",
       "713                   0 year              2 years    40-49        Very Close  \n",
       "167                  7 years              4 years    30-39        Very Close  "
      ]
     },
     "execution_count": 68,
     "metadata": {},
     "output_type": "execute_result"
    }
   ],
   "source": [
    "data.sample(4)"
   ]
  },
  {
   "cell_type": "markdown",
   "id": "31e37f82",
   "metadata": {},
   "source": [
    "#### Selecting the columns that would bring more meaning during analysis"
   ]
  },
  {
   "cell_type": "code",
   "execution_count": 72,
   "id": "b998187e",
   "metadata": {},
   "outputs": [],
   "source": [
    "data = data[['AgeGroup', 'Gender', 'MaritalStatus', 'Attrition', 'BusinessTravel', 'DistanceFrom_Home', 'Department',\n",
    "             'Education', 'EducationField', 'EnvironmentSatisfaction', 'JobInvolvement', 'JobLevel', 'JobRole',\n",
    "             'JobSatisfaction', 'HourlyRate', 'DailyRate', 'MonthlyIncome', 'MonthlyRate', 'NumCompaniesWorked',\n",
    "             'OverTime', 'PercentSalaryHike', 'PerformanceRating', 'RelationshipSatisfaction', 'StandardHours',\n",
    "             'StockOptionLevel', 'TotalWorkingYears', 'TrainingTimesLastYear', 'WorkLifeBalance', 'YearsAtCompany', \n",
    "             'YearsInCurrentRole', 'YearsSinceLastPromotion', 'YearsWithCurrManager']]"
   ]
  },
  {
   "cell_type": "code",
   "execution_count": 70,
   "id": "bdd37587",
   "metadata": {},
   "outputs": [
    {
     "data": {
      "text/html": [
       "<div>\n",
       "<style scoped>\n",
       "    .dataframe tbody tr th:only-of-type {\n",
       "        vertical-align: middle;\n",
       "    }\n",
       "\n",
       "    .dataframe tbody tr th {\n",
       "        vertical-align: top;\n",
       "    }\n",
       "\n",
       "    .dataframe thead th {\n",
       "        text-align: right;\n",
       "    }\n",
       "</style>\n",
       "<table border=\"1\" class=\"dataframe\">\n",
       "  <thead>\n",
       "    <tr style=\"text-align: right;\">\n",
       "      <th></th>\n",
       "      <th>id</th>\n",
       "      <th>Age</th>\n",
       "      <th>Attrition</th>\n",
       "      <th>BusinessTravel</th>\n",
       "      <th>DailyRate</th>\n",
       "      <th>Department</th>\n",
       "      <th>DistanceFromHome</th>\n",
       "      <th>Education</th>\n",
       "      <th>EducationField</th>\n",
       "      <th>EmployeeCount</th>\n",
       "      <th>EmployeeNumber</th>\n",
       "      <th>EnvironmentSatisfaction</th>\n",
       "      <th>Gender</th>\n",
       "      <th>HourlyRate</th>\n",
       "      <th>JobInvolvement</th>\n",
       "      <th>JobLevel</th>\n",
       "      <th>JobRole</th>\n",
       "      <th>JobSatisfaction</th>\n",
       "      <th>MaritalStatus</th>\n",
       "      <th>MonthlyIncome</th>\n",
       "      <th>MonthlyRate</th>\n",
       "      <th>NumCompaniesWorked</th>\n",
       "      <th>Over18</th>\n",
       "      <th>OverTime</th>\n",
       "      <th>PercentSalaryHike</th>\n",
       "      <th>PerformanceRating</th>\n",
       "      <th>RelationshipSatisfaction</th>\n",
       "      <th>StandardHours</th>\n",
       "      <th>StockOptionLevel</th>\n",
       "      <th>TotalWorkingYears</th>\n",
       "      <th>TrainingTimesLastYear</th>\n",
       "      <th>WorkLifeBalance</th>\n",
       "      <th>YearsAtCompany</th>\n",
       "      <th>YearsInCurrentRole</th>\n",
       "      <th>YearsSinceLastPromotion</th>\n",
       "      <th>YearsWithCurrManager</th>\n",
       "    </tr>\n",
       "  </thead>\n",
       "  <tbody>\n",
       "    <tr>\n",
       "      <th>0</th>\n",
       "      <td>1</td>\n",
       "      <td>41</td>\n",
       "      <td>Yes</td>\n",
       "      <td>Travel_Rarely</td>\n",
       "      <td>1102</td>\n",
       "      <td>Sales</td>\n",
       "      <td>1</td>\n",
       "      <td>2</td>\n",
       "      <td>Life Sciences</td>\n",
       "      <td>1</td>\n",
       "      <td>1</td>\n",
       "      <td>2</td>\n",
       "      <td>Female</td>\n",
       "      <td>94</td>\n",
       "      <td>3</td>\n",
       "      <td>2</td>\n",
       "      <td>Sales Executive</td>\n",
       "      <td>4</td>\n",
       "      <td>Single</td>\n",
       "      <td>5993</td>\n",
       "      <td>19479</td>\n",
       "      <td>8</td>\n",
       "      <td>Y</td>\n",
       "      <td>Yes</td>\n",
       "      <td>11</td>\n",
       "      <td>3</td>\n",
       "      <td>1</td>\n",
       "      <td>80</td>\n",
       "      <td>0</td>\n",
       "      <td>8</td>\n",
       "      <td>0</td>\n",
       "      <td>1</td>\n",
       "      <td>6</td>\n",
       "      <td>4</td>\n",
       "      <td>0</td>\n",
       "      <td>5</td>\n",
       "    </tr>\n",
       "    <tr>\n",
       "      <th>1</th>\n",
       "      <td>2</td>\n",
       "      <td>49</td>\n",
       "      <td>No</td>\n",
       "      <td>Travel_Frequently</td>\n",
       "      <td>279</td>\n",
       "      <td>Research &amp; Development</td>\n",
       "      <td>8</td>\n",
       "      <td>1</td>\n",
       "      <td>Life Sciences</td>\n",
       "      <td>1</td>\n",
       "      <td>2</td>\n",
       "      <td>3</td>\n",
       "      <td>Male</td>\n",
       "      <td>61</td>\n",
       "      <td>2</td>\n",
       "      <td>2</td>\n",
       "      <td>Research Scientist</td>\n",
       "      <td>2</td>\n",
       "      <td>Married</td>\n",
       "      <td>5130</td>\n",
       "      <td>24907</td>\n",
       "      <td>1</td>\n",
       "      <td>Y</td>\n",
       "      <td>No</td>\n",
       "      <td>23</td>\n",
       "      <td>4</td>\n",
       "      <td>4</td>\n",
       "      <td>80</td>\n",
       "      <td>1</td>\n",
       "      <td>10</td>\n",
       "      <td>3</td>\n",
       "      <td>3</td>\n",
       "      <td>10</td>\n",
       "      <td>7</td>\n",
       "      <td>1</td>\n",
       "      <td>7</td>\n",
       "    </tr>\n",
       "    <tr>\n",
       "      <th>2</th>\n",
       "      <td>3</td>\n",
       "      <td>37</td>\n",
       "      <td>Yes</td>\n",
       "      <td>Travel_Rarely</td>\n",
       "      <td>1373</td>\n",
       "      <td>Research &amp; Development</td>\n",
       "      <td>2</td>\n",
       "      <td>2</td>\n",
       "      <td>Other</td>\n",
       "      <td>1</td>\n",
       "      <td>4</td>\n",
       "      <td>4</td>\n",
       "      <td>Male</td>\n",
       "      <td>92</td>\n",
       "      <td>2</td>\n",
       "      <td>1</td>\n",
       "      <td>Laboratory Technician</td>\n",
       "      <td>3</td>\n",
       "      <td>Single</td>\n",
       "      <td>2090</td>\n",
       "      <td>2396</td>\n",
       "      <td>6</td>\n",
       "      <td>Y</td>\n",
       "      <td>Yes</td>\n",
       "      <td>15</td>\n",
       "      <td>3</td>\n",
       "      <td>2</td>\n",
       "      <td>80</td>\n",
       "      <td>0</td>\n",
       "      <td>7</td>\n",
       "      <td>3</td>\n",
       "      <td>3</td>\n",
       "      <td>0</td>\n",
       "      <td>0</td>\n",
       "      <td>0</td>\n",
       "      <td>0</td>\n",
       "    </tr>\n",
       "    <tr>\n",
       "      <th>3</th>\n",
       "      <td>4</td>\n",
       "      <td>33</td>\n",
       "      <td>No</td>\n",
       "      <td>Travel_Frequently</td>\n",
       "      <td>1392</td>\n",
       "      <td>Research &amp; Development</td>\n",
       "      <td>3</td>\n",
       "      <td>4</td>\n",
       "      <td>Life Sciences</td>\n",
       "      <td>1</td>\n",
       "      <td>5</td>\n",
       "      <td>4</td>\n",
       "      <td>Female</td>\n",
       "      <td>56</td>\n",
       "      <td>3</td>\n",
       "      <td>1</td>\n",
       "      <td>Research Scientist</td>\n",
       "      <td>3</td>\n",
       "      <td>Married</td>\n",
       "      <td>2909</td>\n",
       "      <td>23159</td>\n",
       "      <td>1</td>\n",
       "      <td>Y</td>\n",
       "      <td>Yes</td>\n",
       "      <td>11</td>\n",
       "      <td>3</td>\n",
       "      <td>3</td>\n",
       "      <td>80</td>\n",
       "      <td>0</td>\n",
       "      <td>8</td>\n",
       "      <td>3</td>\n",
       "      <td>3</td>\n",
       "      <td>8</td>\n",
       "      <td>7</td>\n",
       "      <td>3</td>\n",
       "      <td>0</td>\n",
       "    </tr>\n",
       "    <tr>\n",
       "      <th>4</th>\n",
       "      <td>5</td>\n",
       "      <td>27</td>\n",
       "      <td>No</td>\n",
       "      <td>Travel_Rarely</td>\n",
       "      <td>591</td>\n",
       "      <td>Research &amp; Development</td>\n",
       "      <td>2</td>\n",
       "      <td>1</td>\n",
       "      <td>Medical</td>\n",
       "      <td>1</td>\n",
       "      <td>7</td>\n",
       "      <td>1</td>\n",
       "      <td>Male</td>\n",
       "      <td>40</td>\n",
       "      <td>3</td>\n",
       "      <td>1</td>\n",
       "      <td>Laboratory Technician</td>\n",
       "      <td>2</td>\n",
       "      <td>Married</td>\n",
       "      <td>3468</td>\n",
       "      <td>16632</td>\n",
       "      <td>9</td>\n",
       "      <td>Y</td>\n",
       "      <td>No</td>\n",
       "      <td>12</td>\n",
       "      <td>3</td>\n",
       "      <td>4</td>\n",
       "      <td>80</td>\n",
       "      <td>1</td>\n",
       "      <td>6</td>\n",
       "      <td>3</td>\n",
       "      <td>3</td>\n",
       "      <td>2</td>\n",
       "      <td>2</td>\n",
       "      <td>2</td>\n",
       "      <td>2</td>\n",
       "    </tr>\n",
       "  </tbody>\n",
       "</table>\n",
       "</div>"
      ],
      "text/plain": [
       "   id  Age Attrition     BusinessTravel  DailyRate              Department  \\\n",
       "0   1   41       Yes      Travel_Rarely       1102                   Sales   \n",
       "1   2   49        No  Travel_Frequently        279  Research & Development   \n",
       "2   3   37       Yes      Travel_Rarely       1373  Research & Development   \n",
       "3   4   33        No  Travel_Frequently       1392  Research & Development   \n",
       "4   5   27        No      Travel_Rarely        591  Research & Development   \n",
       "\n",
       "   DistanceFromHome  Education EducationField  EmployeeCount  EmployeeNumber  \\\n",
       "0                 1          2  Life Sciences              1               1   \n",
       "1                 8          1  Life Sciences              1               2   \n",
       "2                 2          2          Other              1               4   \n",
       "3                 3          4  Life Sciences              1               5   \n",
       "4                 2          1        Medical              1               7   \n",
       "\n",
       "   EnvironmentSatisfaction  Gender  HourlyRate  JobInvolvement  JobLevel  \\\n",
       "0                        2  Female          94               3         2   \n",
       "1                        3    Male          61               2         2   \n",
       "2                        4    Male          92               2         1   \n",
       "3                        4  Female          56               3         1   \n",
       "4                        1    Male          40               3         1   \n",
       "\n",
       "                 JobRole  JobSatisfaction MaritalStatus  MonthlyIncome  \\\n",
       "0        Sales Executive                4        Single           5993   \n",
       "1     Research Scientist                2       Married           5130   \n",
       "2  Laboratory Technician                3        Single           2090   \n",
       "3     Research Scientist                3       Married           2909   \n",
       "4  Laboratory Technician                2       Married           3468   \n",
       "\n",
       "   MonthlyRate  NumCompaniesWorked Over18 OverTime  PercentSalaryHike  \\\n",
       "0        19479                   8      Y      Yes                 11   \n",
       "1        24907                   1      Y       No                 23   \n",
       "2         2396                   6      Y      Yes                 15   \n",
       "3        23159                   1      Y      Yes                 11   \n",
       "4        16632                   9      Y       No                 12   \n",
       "\n",
       "   PerformanceRating  RelationshipSatisfaction  StandardHours  \\\n",
       "0                  3                         1             80   \n",
       "1                  4                         4             80   \n",
       "2                  3                         2             80   \n",
       "3                  3                         3             80   \n",
       "4                  3                         4             80   \n",
       "\n",
       "   StockOptionLevel  TotalWorkingYears  TrainingTimesLastYear  \\\n",
       "0                 0                  8                      0   \n",
       "1                 1                 10                      3   \n",
       "2                 0                  7                      3   \n",
       "3                 0                  8                      3   \n",
       "4                 1                  6                      3   \n",
       "\n",
       "   WorkLifeBalance  YearsAtCompany  YearsInCurrentRole  \\\n",
       "0                1               6                   4   \n",
       "1                3              10                   7   \n",
       "2                3               0                   0   \n",
       "3                3               8                   7   \n",
       "4                3               2                   2   \n",
       "\n",
       "   YearsSinceLastPromotion  YearsWithCurrManager  \n",
       "0                        0                     5  \n",
       "1                        1                     7  \n",
       "2                        0                     0  \n",
       "3                        3                     0  \n",
       "4                        2                     2  "
      ]
     },
     "execution_count": 70,
     "metadata": {},
     "output_type": "execute_result"
    }
   ],
   "source": [
    "# Old dataframe\n",
    "dat.head(5)"
   ]
  },
  {
   "cell_type": "code",
   "execution_count": 71,
   "id": "5985eadb",
   "metadata": {},
   "outputs": [
    {
     "data": {
      "text/html": [
       "<div>\n",
       "<style scoped>\n",
       "    .dataframe tbody tr th:only-of-type {\n",
       "        vertical-align: middle;\n",
       "    }\n",
       "\n",
       "    .dataframe tbody tr th {\n",
       "        vertical-align: top;\n",
       "    }\n",
       "\n",
       "    .dataframe thead th {\n",
       "        text-align: right;\n",
       "    }\n",
       "</style>\n",
       "<table border=\"1\" class=\"dataframe\">\n",
       "  <thead>\n",
       "    <tr style=\"text-align: right;\">\n",
       "      <th></th>\n",
       "      <th>AgeGroup</th>\n",
       "      <th>Gender</th>\n",
       "      <th>MaritalStatus</th>\n",
       "      <th>Attrition</th>\n",
       "      <th>BusinessTravel</th>\n",
       "      <th>DistanceFrom_Home</th>\n",
       "      <th>Department</th>\n",
       "      <th>Education</th>\n",
       "      <th>EducationField</th>\n",
       "      <th>EnvironmentSatisfaction</th>\n",
       "      <th>JobInvolvement</th>\n",
       "      <th>JobLevel</th>\n",
       "      <th>JobRole</th>\n",
       "      <th>JobSatisfaction</th>\n",
       "      <th>HourlyRate</th>\n",
       "      <th>DailyRate</th>\n",
       "      <th>MonthlyIncome</th>\n",
       "      <th>MonthlyRate</th>\n",
       "      <th>NumCompaniesWorked</th>\n",
       "      <th>OverTime</th>\n",
       "      <th>PercentSalaryHike</th>\n",
       "      <th>PerformanceRating</th>\n",
       "      <th>RelationshipSatisfaction</th>\n",
       "      <th>StandardHours</th>\n",
       "      <th>StockOptionLevel</th>\n",
       "      <th>TotalWorkingYears</th>\n",
       "      <th>TrainingTimesLastYear</th>\n",
       "      <th>WorkLifeBalance</th>\n",
       "      <th>YearsAtCompany</th>\n",
       "      <th>YearsInCurrentRole</th>\n",
       "      <th>YearsSinceLastPromotion</th>\n",
       "      <th>YearsWithCurrManager</th>\n",
       "    </tr>\n",
       "  </thead>\n",
       "  <tbody>\n",
       "    <tr>\n",
       "      <th>0</th>\n",
       "      <td>40-49</td>\n",
       "      <td>Female</td>\n",
       "      <td>Single</td>\n",
       "      <td>Yes</td>\n",
       "      <td>Travel Rarely</td>\n",
       "      <td>Very Close</td>\n",
       "      <td>Sales</td>\n",
       "      <td>College</td>\n",
       "      <td>Life Sciences</td>\n",
       "      <td>Medium</td>\n",
       "      <td>High</td>\n",
       "      <td>Lvl 2</td>\n",
       "      <td>Sales Executive</td>\n",
       "      <td>Very High</td>\n",
       "      <td>94</td>\n",
       "      <td>1102</td>\n",
       "      <td>5993</td>\n",
       "      <td>19479</td>\n",
       "      <td>8</td>\n",
       "      <td>Yes</td>\n",
       "      <td>11</td>\n",
       "      <td>Excellent</td>\n",
       "      <td>Low</td>\n",
       "      <td>80</td>\n",
       "      <td>Lvl 0</td>\n",
       "      <td>0-10 years</td>\n",
       "      <td>0 year</td>\n",
       "      <td>Bad</td>\n",
       "      <td>0-10 years</td>\n",
       "      <td>4 years</td>\n",
       "      <td>0 year</td>\n",
       "      <td>5 years</td>\n",
       "    </tr>\n",
       "    <tr>\n",
       "      <th>1</th>\n",
       "      <td>40-49</td>\n",
       "      <td>Male</td>\n",
       "      <td>Married</td>\n",
       "      <td>No</td>\n",
       "      <td>Travel Frequently</td>\n",
       "      <td>Very Close</td>\n",
       "      <td>Research &amp; Development</td>\n",
       "      <td>Below College</td>\n",
       "      <td>Life Sciences</td>\n",
       "      <td>High</td>\n",
       "      <td>Medium</td>\n",
       "      <td>Lvl 2</td>\n",
       "      <td>Research Scientist</td>\n",
       "      <td>Medium</td>\n",
       "      <td>61</td>\n",
       "      <td>279</td>\n",
       "      <td>5130</td>\n",
       "      <td>24907</td>\n",
       "      <td>1</td>\n",
       "      <td>No</td>\n",
       "      <td>23</td>\n",
       "      <td>Outstanding</td>\n",
       "      <td>Very High</td>\n",
       "      <td>80</td>\n",
       "      <td>Lvl 1</td>\n",
       "      <td>11-20 years</td>\n",
       "      <td>3 years</td>\n",
       "      <td>Better</td>\n",
       "      <td>11-20 years</td>\n",
       "      <td>7 years</td>\n",
       "      <td>1 years</td>\n",
       "      <td>7 years</td>\n",
       "    </tr>\n",
       "    <tr>\n",
       "      <th>2</th>\n",
       "      <td>30-39</td>\n",
       "      <td>Male</td>\n",
       "      <td>Single</td>\n",
       "      <td>Yes</td>\n",
       "      <td>Travel Rarely</td>\n",
       "      <td>Very Close</td>\n",
       "      <td>Research &amp; Development</td>\n",
       "      <td>College</td>\n",
       "      <td>Other</td>\n",
       "      <td>Very High</td>\n",
       "      <td>Medium</td>\n",
       "      <td>Lvl 1</td>\n",
       "      <td>Laboratory Technician</td>\n",
       "      <td>High</td>\n",
       "      <td>92</td>\n",
       "      <td>1373</td>\n",
       "      <td>2090</td>\n",
       "      <td>2396</td>\n",
       "      <td>6</td>\n",
       "      <td>Yes</td>\n",
       "      <td>15</td>\n",
       "      <td>Excellent</td>\n",
       "      <td>Medium</td>\n",
       "      <td>80</td>\n",
       "      <td>Lvl 0</td>\n",
       "      <td>0-10 years</td>\n",
       "      <td>3 years</td>\n",
       "      <td>Better</td>\n",
       "      <td>0-10 years</td>\n",
       "      <td>0 year</td>\n",
       "      <td>0 year</td>\n",
       "      <td>0 year</td>\n",
       "    </tr>\n",
       "    <tr>\n",
       "      <th>3</th>\n",
       "      <td>30-39</td>\n",
       "      <td>Female</td>\n",
       "      <td>Married</td>\n",
       "      <td>No</td>\n",
       "      <td>Travel Frequently</td>\n",
       "      <td>Very Close</td>\n",
       "      <td>Research &amp; Development</td>\n",
       "      <td>Master</td>\n",
       "      <td>Life Sciences</td>\n",
       "      <td>Very High</td>\n",
       "      <td>High</td>\n",
       "      <td>Lvl 1</td>\n",
       "      <td>Research Scientist</td>\n",
       "      <td>High</td>\n",
       "      <td>56</td>\n",
       "      <td>1392</td>\n",
       "      <td>2909</td>\n",
       "      <td>23159</td>\n",
       "      <td>1</td>\n",
       "      <td>Yes</td>\n",
       "      <td>11</td>\n",
       "      <td>Excellent</td>\n",
       "      <td>High</td>\n",
       "      <td>80</td>\n",
       "      <td>Lvl 0</td>\n",
       "      <td>0-10 years</td>\n",
       "      <td>3 years</td>\n",
       "      <td>Better</td>\n",
       "      <td>0-10 years</td>\n",
       "      <td>7 years</td>\n",
       "      <td>3 years</td>\n",
       "      <td>0 year</td>\n",
       "    </tr>\n",
       "    <tr>\n",
       "      <th>4</th>\n",
       "      <td>20-29</td>\n",
       "      <td>Male</td>\n",
       "      <td>Married</td>\n",
       "      <td>No</td>\n",
       "      <td>Travel Rarely</td>\n",
       "      <td>Very Close</td>\n",
       "      <td>Research &amp; Development</td>\n",
       "      <td>Below College</td>\n",
       "      <td>Medical</td>\n",
       "      <td>Low</td>\n",
       "      <td>High</td>\n",
       "      <td>Lvl 1</td>\n",
       "      <td>Laboratory Technician</td>\n",
       "      <td>Medium</td>\n",
       "      <td>40</td>\n",
       "      <td>591</td>\n",
       "      <td>3468</td>\n",
       "      <td>16632</td>\n",
       "      <td>9</td>\n",
       "      <td>No</td>\n",
       "      <td>12</td>\n",
       "      <td>Excellent</td>\n",
       "      <td>Very High</td>\n",
       "      <td>80</td>\n",
       "      <td>Lvl 1</td>\n",
       "      <td>0-10 years</td>\n",
       "      <td>3 years</td>\n",
       "      <td>Better</td>\n",
       "      <td>0-10 years</td>\n",
       "      <td>2 years</td>\n",
       "      <td>2 years</td>\n",
       "      <td>2 years</td>\n",
       "    </tr>\n",
       "  </tbody>\n",
       "</table>\n",
       "</div>"
      ],
      "text/plain": [
       "  AgeGroup  Gender MaritalStatus Attrition     BusinessTravel  \\\n",
       "0    40-49  Female        Single       Yes      Travel Rarely   \n",
       "1    40-49    Male       Married        No  Travel Frequently   \n",
       "2    30-39    Male        Single       Yes      Travel Rarely   \n",
       "3    30-39  Female       Married        No  Travel Frequently   \n",
       "4    20-29    Male       Married        No      Travel Rarely   \n",
       "\n",
       "  DistanceFrom_Home              Department      Education EducationField  \\\n",
       "0        Very Close                   Sales        College  Life Sciences   \n",
       "1        Very Close  Research & Development  Below College  Life Sciences   \n",
       "2        Very Close  Research & Development        College          Other   \n",
       "3        Very Close  Research & Development         Master  Life Sciences   \n",
       "4        Very Close  Research & Development  Below College        Medical   \n",
       "\n",
       "  EnvironmentSatisfaction JobInvolvement JobLevel                JobRole  \\\n",
       "0                  Medium           High    Lvl 2        Sales Executive   \n",
       "1                    High         Medium    Lvl 2     Research Scientist   \n",
       "2               Very High         Medium    Lvl 1  Laboratory Technician   \n",
       "3               Very High           High    Lvl 1     Research Scientist   \n",
       "4                     Low           High    Lvl 1  Laboratory Technician   \n",
       "\n",
       "  JobSatisfaction  HourlyRate  DailyRate  MonthlyIncome  MonthlyRate  \\\n",
       "0       Very High          94       1102           5993        19479   \n",
       "1          Medium          61        279           5130        24907   \n",
       "2            High          92       1373           2090         2396   \n",
       "3            High          56       1392           2909        23159   \n",
       "4          Medium          40        591           3468        16632   \n",
       "\n",
       "   NumCompaniesWorked OverTime  PercentSalaryHike PerformanceRating  \\\n",
       "0                   8      Yes                 11         Excellent   \n",
       "1                   1       No                 23       Outstanding   \n",
       "2                   6      Yes                 15         Excellent   \n",
       "3                   1      Yes                 11         Excellent   \n",
       "4                   9       No                 12         Excellent   \n",
       "\n",
       "  RelationshipSatisfaction  StandardHours StockOptionLevel TotalWorkingYears  \\\n",
       "0                      Low             80            Lvl 0        0-10 years   \n",
       "1                Very High             80            Lvl 1       11-20 years   \n",
       "2                   Medium             80            Lvl 0        0-10 years   \n",
       "3                     High             80            Lvl 0        0-10 years   \n",
       "4                Very High             80            Lvl 1        0-10 years   \n",
       "\n",
       "  TrainingTimesLastYear WorkLifeBalance YearsAtCompany YearsInCurrentRole  \\\n",
       "0                0 year             Bad     0-10 years            4 years   \n",
       "1               3 years          Better    11-20 years            7 years   \n",
       "2               3 years          Better     0-10 years             0 year   \n",
       "3               3 years          Better     0-10 years            7 years   \n",
       "4               3 years          Better     0-10 years            2 years   \n",
       "\n",
       "  YearsSinceLastPromotion YearsWithCurrManager  \n",
       "0                  0 year              5 years  \n",
       "1                 1 years              7 years  \n",
       "2                  0 year               0 year  \n",
       "3                 3 years               0 year  \n",
       "4                 2 years              2 years  "
      ]
     },
     "execution_count": 71,
     "metadata": {},
     "output_type": "execute_result"
    }
   ],
   "source": [
    "# New dataframe\n",
    "data.head(5)"
   ]
  },
  {
   "cell_type": "code",
   "execution_count": 44,
   "id": "a5b48ae8",
   "metadata": {},
   "outputs": [],
   "source": [
    "# Save to csv\n",
    "data.to_csv(\"attr_cleaned.csv\")"
   ]
  },
  {
   "cell_type": "markdown",
   "id": "3a78c2e0",
   "metadata": {},
   "source": [
    "# The end"
   ]
  }
 ],
 "metadata": {
  "kernelspec": {
   "display_name": "Python 3 (ipykernel)",
   "language": "python",
   "name": "python3"
  },
  "language_info": {
   "codemirror_mode": {
    "name": "ipython",
    "version": 3
   },
   "file_extension": ".py",
   "mimetype": "text/x-python",
   "name": "python",
   "nbconvert_exporter": "python",
   "pygments_lexer": "ipython3",
   "version": "3.9.12"
  }
 },
 "nbformat": 4,
 "nbformat_minor": 5
}
