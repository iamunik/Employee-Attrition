{
 "cells": [
  {
   "cell_type": "markdown",
   "id": "0537b307",
   "metadata": {},
   "source": [
    "# Attr data cleaning"
   ]
  },
  {
   "cell_type": "code",
   "execution_count": 1,
   "id": "f045650f",
   "metadata": {},
   "outputs": [],
   "source": [
    "import pandas as pd\n",
    "import numpy as np"
   ]
  },
  {
   "cell_type": "code",
   "execution_count": 2,
   "id": "0babe517",
   "metadata": {},
   "outputs": [],
   "source": [
    "dat = pd.read_csv(\"dataset_used/attr.csv\")\n",
    "data = dat.copy()\n",
    "pd.set_option('display.max_columns', None)"
   ]
  },
  {
   "cell_type": "code",
   "execution_count": 3,
   "id": "5588e578",
   "metadata": {},
   "outputs": [
    {
     "data": {
      "text/html": [
       "<div>\n",
       "<style scoped>\n",
       "    .dataframe tbody tr th:only-of-type {\n",
       "        vertical-align: middle;\n",
       "    }\n",
       "\n",
       "    .dataframe tbody tr th {\n",
       "        vertical-align: top;\n",
       "    }\n",
       "\n",
       "    .dataframe thead th {\n",
       "        text-align: right;\n",
       "    }\n",
       "</style>\n",
       "<table border=\"1\" class=\"dataframe\">\n",
       "  <thead>\n",
       "    <tr style=\"text-align: right;\">\n",
       "      <th></th>\n",
       "      <th>id</th>\n",
       "      <th>Age</th>\n",
       "      <th>Attrition</th>\n",
       "      <th>BusinessTravel</th>\n",
       "      <th>DailyRate</th>\n",
       "      <th>Department</th>\n",
       "      <th>DistanceFromHome</th>\n",
       "      <th>Education</th>\n",
       "      <th>EducationField</th>\n",
       "      <th>EmployeeCount</th>\n",
       "      <th>EmployeeNumber</th>\n",
       "      <th>EnvironmentSatisfaction</th>\n",
       "      <th>Gender</th>\n",
       "      <th>HourlyRate</th>\n",
       "      <th>JobInvolvement</th>\n",
       "      <th>JobLevel</th>\n",
       "      <th>JobRole</th>\n",
       "      <th>JobSatisfaction</th>\n",
       "      <th>MaritalStatus</th>\n",
       "      <th>MonthlyIncome</th>\n",
       "      <th>MonthlyRate</th>\n",
       "      <th>NumCompaniesWorked</th>\n",
       "      <th>Over18</th>\n",
       "      <th>OverTime</th>\n",
       "      <th>PercentSalaryHike</th>\n",
       "      <th>PerformanceRating</th>\n",
       "      <th>RelationshipSatisfaction</th>\n",
       "      <th>StandardHours</th>\n",
       "      <th>StockOptionLevel</th>\n",
       "      <th>TotalWorkingYears</th>\n",
       "      <th>TrainingTimesLastYear</th>\n",
       "      <th>WorkLifeBalance</th>\n",
       "      <th>YearsAtCompany</th>\n",
       "      <th>YearsInCurrentRole</th>\n",
       "      <th>YearsSinceLastPromotion</th>\n",
       "      <th>YearsWithCurrManager</th>\n",
       "    </tr>\n",
       "  </thead>\n",
       "  <tbody>\n",
       "    <tr>\n",
       "      <th>1279</th>\n",
       "      <td>1280</td>\n",
       "      <td>44</td>\n",
       "      <td>Yes</td>\n",
       "      <td>Travel_Frequently</td>\n",
       "      <td>429</td>\n",
       "      <td>Research &amp; Development</td>\n",
       "      <td>1</td>\n",
       "      <td>2</td>\n",
       "      <td>Medical</td>\n",
       "      <td>1</td>\n",
       "      <td>1792</td>\n",
       "      <td>3</td>\n",
       "      <td>Male</td>\n",
       "      <td>99</td>\n",
       "      <td>3</td>\n",
       "      <td>1</td>\n",
       "      <td>Research Scientist</td>\n",
       "      <td>2</td>\n",
       "      <td>Divorced</td>\n",
       "      <td>2342</td>\n",
       "      <td>11092</td>\n",
       "      <td>1</td>\n",
       "      <td>Y</td>\n",
       "      <td>Yes</td>\n",
       "      <td>12</td>\n",
       "      <td>3</td>\n",
       "      <td>3</td>\n",
       "      <td>80</td>\n",
       "      <td>3</td>\n",
       "      <td>6</td>\n",
       "      <td>2</td>\n",
       "      <td>2</td>\n",
       "      <td>5</td>\n",
       "      <td>3</td>\n",
       "      <td>2</td>\n",
       "      <td>3</td>\n",
       "    </tr>\n",
       "    <tr>\n",
       "      <th>599</th>\n",
       "      <td>600</td>\n",
       "      <td>36</td>\n",
       "      <td>No</td>\n",
       "      <td>Travel_Rarely</td>\n",
       "      <td>1041</td>\n",
       "      <td>Human Resources</td>\n",
       "      <td>13</td>\n",
       "      <td>3</td>\n",
       "      <td>Human Resources</td>\n",
       "      <td>1</td>\n",
       "      <td>829</td>\n",
       "      <td>3</td>\n",
       "      <td>Male</td>\n",
       "      <td>36</td>\n",
       "      <td>3</td>\n",
       "      <td>1</td>\n",
       "      <td>Human Resources</td>\n",
       "      <td>2</td>\n",
       "      <td>Married</td>\n",
       "      <td>2143</td>\n",
       "      <td>25527</td>\n",
       "      <td>4</td>\n",
       "      <td>Y</td>\n",
       "      <td>No</td>\n",
       "      <td>13</td>\n",
       "      <td>3</td>\n",
       "      <td>2</td>\n",
       "      <td>80</td>\n",
       "      <td>1</td>\n",
       "      <td>8</td>\n",
       "      <td>2</td>\n",
       "      <td>3</td>\n",
       "      <td>5</td>\n",
       "      <td>2</td>\n",
       "      <td>0</td>\n",
       "      <td>4</td>\n",
       "    </tr>\n",
       "    <tr>\n",
       "      <th>1201</th>\n",
       "      <td>1202</td>\n",
       "      <td>23</td>\n",
       "      <td>Yes</td>\n",
       "      <td>Travel_Rarely</td>\n",
       "      <td>1320</td>\n",
       "      <td>Research &amp; Development</td>\n",
       "      <td>8</td>\n",
       "      <td>1</td>\n",
       "      <td>Medical</td>\n",
       "      <td>1</td>\n",
       "      <td>1684</td>\n",
       "      <td>4</td>\n",
       "      <td>Male</td>\n",
       "      <td>93</td>\n",
       "      <td>2</td>\n",
       "      <td>1</td>\n",
       "      <td>Laboratory Technician</td>\n",
       "      <td>3</td>\n",
       "      <td>Single</td>\n",
       "      <td>3989</td>\n",
       "      <td>20586</td>\n",
       "      <td>1</td>\n",
       "      <td>Y</td>\n",
       "      <td>Yes</td>\n",
       "      <td>11</td>\n",
       "      <td>3</td>\n",
       "      <td>1</td>\n",
       "      <td>80</td>\n",
       "      <td>0</td>\n",
       "      <td>5</td>\n",
       "      <td>2</td>\n",
       "      <td>3</td>\n",
       "      <td>5</td>\n",
       "      <td>4</td>\n",
       "      <td>1</td>\n",
       "      <td>2</td>\n",
       "    </tr>\n",
       "    <tr>\n",
       "      <th>540</th>\n",
       "      <td>541</td>\n",
       "      <td>28</td>\n",
       "      <td>Yes</td>\n",
       "      <td>Travel_Rarely</td>\n",
       "      <td>654</td>\n",
       "      <td>Research &amp; Development</td>\n",
       "      <td>1</td>\n",
       "      <td>2</td>\n",
       "      <td>Life Sciences</td>\n",
       "      <td>1</td>\n",
       "      <td>741</td>\n",
       "      <td>1</td>\n",
       "      <td>Female</td>\n",
       "      <td>67</td>\n",
       "      <td>1</td>\n",
       "      <td>1</td>\n",
       "      <td>Research Scientist</td>\n",
       "      <td>2</td>\n",
       "      <td>Single</td>\n",
       "      <td>2216</td>\n",
       "      <td>3872</td>\n",
       "      <td>7</td>\n",
       "      <td>Y</td>\n",
       "      <td>Yes</td>\n",
       "      <td>13</td>\n",
       "      <td>3</td>\n",
       "      <td>4</td>\n",
       "      <td>80</td>\n",
       "      <td>0</td>\n",
       "      <td>10</td>\n",
       "      <td>4</td>\n",
       "      <td>3</td>\n",
       "      <td>7</td>\n",
       "      <td>7</td>\n",
       "      <td>3</td>\n",
       "      <td>7</td>\n",
       "    </tr>\n",
       "    <tr>\n",
       "      <th>1040</th>\n",
       "      <td>1041</td>\n",
       "      <td>40</td>\n",
       "      <td>No</td>\n",
       "      <td>Non-Travel</td>\n",
       "      <td>218</td>\n",
       "      <td>Research &amp; Development</td>\n",
       "      <td>8</td>\n",
       "      <td>1</td>\n",
       "      <td>Medical</td>\n",
       "      <td>1</td>\n",
       "      <td>1468</td>\n",
       "      <td>4</td>\n",
       "      <td>Male</td>\n",
       "      <td>55</td>\n",
       "      <td>2</td>\n",
       "      <td>3</td>\n",
       "      <td>Research Director</td>\n",
       "      <td>2</td>\n",
       "      <td>Divorced</td>\n",
       "      <td>13757</td>\n",
       "      <td>25178</td>\n",
       "      <td>2</td>\n",
       "      <td>Y</td>\n",
       "      <td>No</td>\n",
       "      <td>11</td>\n",
       "      <td>3</td>\n",
       "      <td>3</td>\n",
       "      <td>80</td>\n",
       "      <td>1</td>\n",
       "      <td>16</td>\n",
       "      <td>5</td>\n",
       "      <td>3</td>\n",
       "      <td>9</td>\n",
       "      <td>8</td>\n",
       "      <td>4</td>\n",
       "      <td>8</td>\n",
       "    </tr>\n",
       "  </tbody>\n",
       "</table>\n",
       "</div>"
      ],
      "text/plain": [
       "        id  Age Attrition     BusinessTravel  DailyRate  \\\n",
       "1279  1280   44       Yes  Travel_Frequently        429   \n",
       "599    600   36        No      Travel_Rarely       1041   \n",
       "1201  1202   23       Yes      Travel_Rarely       1320   \n",
       "540    541   28       Yes      Travel_Rarely        654   \n",
       "1040  1041   40        No         Non-Travel        218   \n",
       "\n",
       "                  Department  DistanceFromHome  Education   EducationField  \\\n",
       "1279  Research & Development                 1          2          Medical   \n",
       "599          Human Resources                13          3  Human Resources   \n",
       "1201  Research & Development                 8          1          Medical   \n",
       "540   Research & Development                 1          2    Life Sciences   \n",
       "1040  Research & Development                 8          1          Medical   \n",
       "\n",
       "      EmployeeCount  EmployeeNumber  EnvironmentSatisfaction  Gender  \\\n",
       "1279              1            1792                        3    Male   \n",
       "599               1             829                        3    Male   \n",
       "1201              1            1684                        4    Male   \n",
       "540               1             741                        1  Female   \n",
       "1040              1            1468                        4    Male   \n",
       "\n",
       "      HourlyRate  JobInvolvement  JobLevel                JobRole  \\\n",
       "1279          99               3         1     Research Scientist   \n",
       "599           36               3         1        Human Resources   \n",
       "1201          93               2         1  Laboratory Technician   \n",
       "540           67               1         1     Research Scientist   \n",
       "1040          55               2         3      Research Director   \n",
       "\n",
       "      JobSatisfaction MaritalStatus  MonthlyIncome  MonthlyRate  \\\n",
       "1279                2      Divorced           2342        11092   \n",
       "599                 2       Married           2143        25527   \n",
       "1201                3        Single           3989        20586   \n",
       "540                 2        Single           2216         3872   \n",
       "1040                2      Divorced          13757        25178   \n",
       "\n",
       "      NumCompaniesWorked Over18 OverTime  PercentSalaryHike  \\\n",
       "1279                   1      Y      Yes                 12   \n",
       "599                    4      Y       No                 13   \n",
       "1201                   1      Y      Yes                 11   \n",
       "540                    7      Y      Yes                 13   \n",
       "1040                   2      Y       No                 11   \n",
       "\n",
       "      PerformanceRating  RelationshipSatisfaction  StandardHours  \\\n",
       "1279                  3                         3             80   \n",
       "599                   3                         2             80   \n",
       "1201                  3                         1             80   \n",
       "540                   3                         4             80   \n",
       "1040                  3                         3             80   \n",
       "\n",
       "      StockOptionLevel  TotalWorkingYears  TrainingTimesLastYear  \\\n",
       "1279                 3                  6                      2   \n",
       "599                  1                  8                      2   \n",
       "1201                 0                  5                      2   \n",
       "540                  0                 10                      4   \n",
       "1040                 1                 16                      5   \n",
       "\n",
       "      WorkLifeBalance  YearsAtCompany  YearsInCurrentRole  \\\n",
       "1279                2               5                   3   \n",
       "599                 3               5                   2   \n",
       "1201                3               5                   4   \n",
       "540                 3               7                   7   \n",
       "1040                3               9                   8   \n",
       "\n",
       "      YearsSinceLastPromotion  YearsWithCurrManager  \n",
       "1279                        2                     3  \n",
       "599                         0                     4  \n",
       "1201                        1                     2  \n",
       "540                         3                     7  \n",
       "1040                        4                     8  "
      ]
     },
     "execution_count": 3,
     "metadata": {},
     "output_type": "execute_result"
    }
   ],
   "source": [
    "data.sample(5)"
   ]
  },
  {
   "cell_type": "code",
   "execution_count": 4,
   "id": "06508b52",
   "metadata": {},
   "outputs": [
    {
     "name": "stdout",
     "output_type": "stream",
     "text": [
      "<class 'pandas.core.frame.DataFrame'>\n",
      "RangeIndex: 1470 entries, 0 to 1469\n",
      "Data columns (total 36 columns):\n",
      " #   Column                    Non-Null Count  Dtype \n",
      "---  ------                    --------------  ----- \n",
      " 0   id                        1470 non-null   int64 \n",
      " 1   Age                       1470 non-null   int64 \n",
      " 2   Attrition                 1470 non-null   object\n",
      " 3   BusinessTravel            1470 non-null   object\n",
      " 4   DailyRate                 1470 non-null   int64 \n",
      " 5   Department                1470 non-null   object\n",
      " 6   DistanceFromHome          1470 non-null   int64 \n",
      " 7   Education                 1470 non-null   int64 \n",
      " 8   EducationField            1470 non-null   object\n",
      " 9   EmployeeCount             1470 non-null   int64 \n",
      " 10  EmployeeNumber            1470 non-null   int64 \n",
      " 11  EnvironmentSatisfaction   1470 non-null   int64 \n",
      " 12  Gender                    1470 non-null   object\n",
      " 13  HourlyRate                1470 non-null   int64 \n",
      " 14  JobInvolvement            1470 non-null   int64 \n",
      " 15  JobLevel                  1470 non-null   int64 \n",
      " 16  JobRole                   1470 non-null   object\n",
      " 17  JobSatisfaction           1470 non-null   int64 \n",
      " 18  MaritalStatus             1470 non-null   object\n",
      " 19  MonthlyIncome             1470 non-null   int64 \n",
      " 20  MonthlyRate               1470 non-null   int64 \n",
      " 21  NumCompaniesWorked        1470 non-null   int64 \n",
      " 22  Over18                    1470 non-null   object\n",
      " 23  OverTime                  1470 non-null   object\n",
      " 24  PercentSalaryHike         1470 non-null   int64 \n",
      " 25  PerformanceRating         1470 non-null   int64 \n",
      " 26  RelationshipSatisfaction  1470 non-null   int64 \n",
      " 27  StandardHours             1470 non-null   int64 \n",
      " 28  StockOptionLevel          1470 non-null   int64 \n",
      " 29  TotalWorkingYears         1470 non-null   int64 \n",
      " 30  TrainingTimesLastYear     1470 non-null   int64 \n",
      " 31  WorkLifeBalance           1470 non-null   int64 \n",
      " 32  YearsAtCompany            1470 non-null   int64 \n",
      " 33  YearsInCurrentRole        1470 non-null   int64 \n",
      " 34  YearsSinceLastPromotion   1470 non-null   int64 \n",
      " 35  YearsWithCurrManager      1470 non-null   int64 \n",
      "dtypes: int64(27), object(9)\n",
      "memory usage: 413.6+ KB\n"
     ]
    }
   ],
   "source": [
    "data.info()"
   ]
  },
  {
   "cell_type": "markdown",
   "id": "ef26b42e",
   "metadata": {},
   "source": [
    "The `data.info()` allows us to see a quick overview of our data and with that we were able to deduce that the data has no missing values and it also has 36 columns and 1470 rows of data, with each column being either an integer ot an object"
   ]
  },
  {
   "cell_type": "markdown",
   "id": "85d19c80",
   "metadata": {},
   "source": [
    "# Cleaning the data column by column"
   ]
  },
  {
   "cell_type": "markdown",
   "id": "026e069e",
   "metadata": {},
   "source": [
    "### Age"
   ]
  },
  {
   "cell_type": "markdown",
   "id": "3b632455",
   "metadata": {},
   "source": [
    "For this we can create a bin of ages but for that we would have to get the youngest and oldest age in the column so we know how to create the bin"
   ]
  },
  {
   "cell_type": "code",
   "execution_count": 5,
   "id": "9ffd935b",
   "metadata": {},
   "outputs": [
    {
     "name": "stdout",
     "output_type": "stream",
     "text": [
      "18, 19, 20, 21, 22, 23, 24, 25, 26, 27, 28, 29, 30, 31, 32, 33, 34, 35, 36, 37, 38, 39, 40, 41, 42, 43, 44, 45, 46, 47, 48, 49, 50, 51, 52, 53, 54, 55, 56, 57, 58, 59, 60, "
     ]
    }
   ],
   "source": [
    "for i in sorted(data.Age.unique()):\n",
    "    print(i, end=\", \")"
   ]
  },
  {
   "cell_type": "code",
   "execution_count": 6,
   "id": "d54189ec",
   "metadata": {},
   "outputs": [
    {
     "name": "stdout",
     "output_type": "stream",
     "text": [
      "The youngest age in the data is 18\n",
      "The oldest age in the data is 60\n"
     ]
    }
   ],
   "source": [
    "print(f\"The youngest age in the data is {data.Age.unique().min()}\\n\\\n",
    "The oldest age in the data is {data.Age.unique().max()}\")"
   ]
  },
  {
   "cell_type": "code",
   "execution_count": 7,
   "id": "07ac6aa7",
   "metadata": {},
   "outputs": [],
   "source": [
    "bins = [18, 20, 30, 40, 50, 60]\n",
    "group = ['<20', '20-29', '30-39', '40-49', '50-59']\n",
    "\n",
    "# Filling NaN with 60+ because we used the right False keyword which will by default ignore the rightmost digit (60)\n",
    "data['AgeGroup'] = pd.cut(data['Age'], bins=bins, labels=group, right=False).cat.add_categories('60+').fillna('60+')"
   ]
  },
  {
   "cell_type": "markdown",
   "id": "de84e1e8",
   "metadata": {},
   "source": [
    "### Attrition"
   ]
  },
  {
   "cell_type": "code",
   "execution_count": 8,
   "id": "eb3a737f",
   "metadata": {},
   "outputs": [
    {
     "data": {
      "text/plain": [
       "array(['Yes', 'No'], dtype=object)"
      ]
     },
     "execution_count": 8,
     "metadata": {},
     "output_type": "execute_result"
    }
   ],
   "source": [
    "data.Attrition.unique()"
   ]
  },
  {
   "cell_type": "markdown",
   "id": "5225e25f",
   "metadata": {},
   "source": [
    "Everything looks okay here so we move on to the next\n",
    "### BusinessTravel"
   ]
  },
  {
   "cell_type": "code",
   "execution_count": 9,
   "id": "171b3228",
   "metadata": {},
   "outputs": [
    {
     "data": {
      "text/plain": [
       "array(['Travel_Rarely', 'Travel_Frequently', 'Non-Travel'], dtype=object)"
      ]
     },
     "execution_count": 9,
     "metadata": {},
     "output_type": "execute_result"
    }
   ],
   "source": [
    "data.BusinessTravel.unique()"
   ]
  },
  {
   "cell_type": "code",
   "execution_count": 10,
   "id": "40590b73",
   "metadata": {},
   "outputs": [
    {
     "data": {
      "text/plain": [
       "array(['Travel Rarely', 'Travel Frequently', 'Non Travel'], dtype=object)"
      ]
     },
     "execution_count": 10,
     "metadata": {},
     "output_type": "execute_result"
    }
   ],
   "source": [
    "data.BusinessTravel = data.BusinessTravel.str.replace('_', ' ').str.replace(\"-\", \" \")\n",
    "data.BusinessTravel.unique()"
   ]
  },
  {
   "cell_type": "markdown",
   "id": "ffd02832",
   "metadata": {},
   "source": [
    "Everything looks okay here so we move on to the next\n",
    "### Department"
   ]
  },
  {
   "cell_type": "code",
   "execution_count": 11,
   "id": "cebcd494",
   "metadata": {},
   "outputs": [
    {
     "data": {
      "text/plain": [
       "array(['Sales', 'Research & Development', 'Human Resources'], dtype=object)"
      ]
     },
     "execution_count": 11,
     "metadata": {},
     "output_type": "execute_result"
    }
   ],
   "source": [
    "data.Department.unique()"
   ]
  },
  {
   "cell_type": "markdown",
   "id": "49955e44",
   "metadata": {},
   "source": [
    "Everything looks okay here so we move on to the next\n",
    "### DistanceFromHome"
   ]
  },
  {
   "cell_type": "code",
   "execution_count": 12,
   "id": "e6a77f81",
   "metadata": {},
   "outputs": [
    {
     "name": "stdout",
     "output_type": "stream",
     "text": [
      "1, 2, 3, 4, 5, 6, 7, 8, 9, 10, 11, 12, 13, 14, 15, 16, 17, 18, 19, 20, 21, 22, 23, 24, 25, 26, 27, 28, 29, "
     ]
    }
   ],
   "source": [
    "for i in sorted(data.DistanceFromHome.unique()):\n",
    "    print(i, end=', ')"
   ]
  },
  {
   "cell_type": "code",
   "execution_count": 13,
   "id": "62f888b1",
   "metadata": {},
   "outputs": [],
   "source": [
    "# I will create a bin for the distance\n",
    "bins = [1, 11, 20, 30]\n",
    "labels = ['Very Close', 'Close', 'Far']\n",
    "data['DistanceFrom_Home'] = pd.cut(data['DistanceFromHome'], bins=bins, labels=labels, right=False)"
   ]
  },
  {
   "cell_type": "markdown",
   "id": "7b7bc837",
   "metadata": {},
   "source": [
    "Everything looks okay here so we move on to the next\n",
    "### Education"
   ]
  },
  {
   "cell_type": "code",
   "execution_count": 14,
   "id": "3e368880",
   "metadata": {},
   "outputs": [
    {
     "data": {
      "text/plain": [
       "array([2, 1, 4, 3, 5], dtype=int64)"
      ]
     },
     "execution_count": 14,
     "metadata": {},
     "output_type": "execute_result"
    }
   ],
   "source": [
    "data.Education.unique()"
   ]
  },
  {
   "cell_type": "code",
   "execution_count": 15,
   "id": "97c4d081",
   "metadata": {},
   "outputs": [],
   "source": [
    "data.Education =  data.Education.map({1: \"Below College\",\n",
    "                                      2: \"College\",\n",
    "                                      3: \"Bachelor\",\n",
    "                                      4: \"Master\",\n",
    "                                      5: \"Doctor\"})"
   ]
  },
  {
   "cell_type": "code",
   "execution_count": 16,
   "id": "b61d4afe",
   "metadata": {},
   "outputs": [
    {
     "data": {
      "text/plain": [
       "array(['College', 'Below College', 'Master', 'Bachelor', 'Doctor'],\n",
       "      dtype=object)"
      ]
     },
     "execution_count": 16,
     "metadata": {},
     "output_type": "execute_result"
    }
   ],
   "source": [
    "data.Education.unique()"
   ]
  },
  {
   "cell_type": "markdown",
   "id": "a69b9d84",
   "metadata": {},
   "source": [
    "Everything looks okay here so we move on to the next\n",
    "### EducationField"
   ]
  },
  {
   "cell_type": "code",
   "execution_count": 17,
   "id": "fcef3058",
   "metadata": {},
   "outputs": [
    {
     "data": {
      "text/plain": [
       "array(['Life Sciences', 'Other', 'Medical', 'Marketing',\n",
       "       'Technical Degree', 'Human Resources'], dtype=object)"
      ]
     },
     "execution_count": 17,
     "metadata": {},
     "output_type": "execute_result"
    }
   ],
   "source": [
    "data.EducationField.unique()"
   ]
  },
  {
   "cell_type": "markdown",
   "id": "46708dd8",
   "metadata": {},
   "source": [
    "Everything looks okay here so we move on to the next\n",
    "### EmployeeCount"
   ]
  },
  {
   "cell_type": "code",
   "execution_count": 18,
   "id": "0fba0b3b",
   "metadata": {},
   "outputs": [
    {
     "data": {
      "text/plain": [
       "array([1], dtype=int64)"
      ]
     },
     "execution_count": 18,
     "metadata": {},
     "output_type": "execute_result"
    }
   ],
   "source": [
    "data.EmployeeCount.unique()"
   ]
  },
  {
   "cell_type": "markdown",
   "id": "dd25deaf",
   "metadata": {},
   "source": [
    "Everything looks okay here so we move on to the next\n",
    "### EnvironmentSatisfaction"
   ]
  },
  {
   "cell_type": "code",
   "execution_count": 19,
   "id": "574f278f",
   "metadata": {},
   "outputs": [
    {
     "data": {
      "text/plain": [
       "array([2, 3, 4, 1], dtype=int64)"
      ]
     },
     "execution_count": 19,
     "metadata": {},
     "output_type": "execute_result"
    }
   ],
   "source": [
    "data.EnvironmentSatisfaction.unique()"
   ]
  },
  {
   "cell_type": "code",
   "execution_count": 20,
   "id": "4f7be2fd",
   "metadata": {},
   "outputs": [],
   "source": [
    "data.EnvironmentSatisfaction = data.EnvironmentSatisfaction.map({1: 'Low',\n",
    "                                                                 2: 'Medium',\n",
    "                                                                 3: 'High',\n",
    "                                                                 4: 'Very High'})"
   ]
  },
  {
   "cell_type": "code",
   "execution_count": 21,
   "id": "2cb1ae6d",
   "metadata": {},
   "outputs": [
    {
     "data": {
      "text/plain": [
       "array(['Medium', 'High', 'Very High', 'Low'], dtype=object)"
      ]
     },
     "execution_count": 21,
     "metadata": {},
     "output_type": "execute_result"
    }
   ],
   "source": [
    "data.EnvironmentSatisfaction.unique()"
   ]
  },
  {
   "cell_type": "markdown",
   "id": "e0a6338b",
   "metadata": {},
   "source": [
    "Everything looks okay here so we move on to the next\n",
    "### Gender"
   ]
  },
  {
   "cell_type": "code",
   "execution_count": 22,
   "id": "2141741f",
   "metadata": {},
   "outputs": [
    {
     "data": {
      "text/plain": [
       "array(['Female', 'Male'], dtype=object)"
      ]
     },
     "execution_count": 22,
     "metadata": {},
     "output_type": "execute_result"
    }
   ],
   "source": [
    "data.Gender.unique()"
   ]
  },
  {
   "cell_type": "markdown",
   "id": "93179985",
   "metadata": {},
   "source": [
    "Everything looks okay here so we move on to the next\n",
    "### JobInvolvement"
   ]
  },
  {
   "cell_type": "code",
   "execution_count": 23,
   "id": "3d00f374",
   "metadata": {},
   "outputs": [
    {
     "data": {
      "text/plain": [
       "array([3, 2, 4, 1], dtype=int64)"
      ]
     },
     "execution_count": 23,
     "metadata": {},
     "output_type": "execute_result"
    }
   ],
   "source": [
    "data.JobInvolvement.unique()"
   ]
  },
  {
   "cell_type": "code",
   "execution_count": 24,
   "id": "5361e523",
   "metadata": {},
   "outputs": [],
   "source": [
    "data.JobInvolvement = data.JobInvolvement.map({1: 'Low',\n",
    "                                               2: 'Medium',\n",
    "                                               3: 'High',\n",
    "                                               4: 'Very High'})"
   ]
  },
  {
   "cell_type": "code",
   "execution_count": 25,
   "id": "d3114a71",
   "metadata": {},
   "outputs": [
    {
     "data": {
      "text/plain": [
       "array(['High', 'Medium', 'Very High', 'Low'], dtype=object)"
      ]
     },
     "execution_count": 25,
     "metadata": {},
     "output_type": "execute_result"
    }
   ],
   "source": [
    "data.JobInvolvement.unique()"
   ]
  },
  {
   "cell_type": "markdown",
   "id": "723288a5",
   "metadata": {},
   "source": [
    "Everything looks okay here so we move on to the next\n",
    "### JobLevel"
   ]
  },
  {
   "cell_type": "code",
   "execution_count": 26,
   "id": "ffb10a2a",
   "metadata": {},
   "outputs": [
    {
     "data": {
      "text/plain": [
       "array([2, 1, 3, 4, 5], dtype=int64)"
      ]
     },
     "execution_count": 26,
     "metadata": {},
     "output_type": "execute_result"
    }
   ],
   "source": [
    "data.JobLevel.unique()"
   ]
  },
  {
   "cell_type": "code",
   "execution_count": 27,
   "id": "5fe7ce12",
   "metadata": {},
   "outputs": [],
   "source": [
    "data.JobLevel = \"Lvl \" + data.JobLevel.astype(str)"
   ]
  },
  {
   "cell_type": "code",
   "execution_count": 28,
   "id": "831ed182",
   "metadata": {},
   "outputs": [
    {
     "data": {
      "text/plain": [
       "array(['Lvl 2', 'Lvl 1', 'Lvl 3', 'Lvl 4', 'Lvl 5'], dtype=object)"
      ]
     },
     "execution_count": 28,
     "metadata": {},
     "output_type": "execute_result"
    }
   ],
   "source": [
    "data.JobLevel.unique()"
   ]
  },
  {
   "cell_type": "markdown",
   "id": "99c9be46",
   "metadata": {},
   "source": [
    "Everything looks okay here so we move on to the next\n",
    "### JobRole"
   ]
  },
  {
   "cell_type": "code",
   "execution_count": 29,
   "id": "7bfa2476",
   "metadata": {},
   "outputs": [
    {
     "data": {
      "text/plain": [
       "array(['Sales Executive', 'Research Scientist', 'Laboratory Technician',\n",
       "       'Manufacturing Director', 'Healthcare Representative', 'Manager',\n",
       "       'Sales Representative', 'Research Director', 'Human Resources'],\n",
       "      dtype=object)"
      ]
     },
     "execution_count": 29,
     "metadata": {},
     "output_type": "execute_result"
    }
   ],
   "source": [
    "data.JobRole.unique()"
   ]
  },
  {
   "cell_type": "markdown",
   "id": "66ace0c6",
   "metadata": {},
   "source": [
    "Everything looks okay here so we move on to the next\n",
    "### JobSatisfaction"
   ]
  },
  {
   "cell_type": "code",
   "execution_count": 30,
   "id": "2c4399f6",
   "metadata": {},
   "outputs": [
    {
     "data": {
      "text/plain": [
       "array([4, 2, 3, 1], dtype=int64)"
      ]
     },
     "execution_count": 30,
     "metadata": {},
     "output_type": "execute_result"
    }
   ],
   "source": [
    "data.JobSatisfaction.unique()"
   ]
  },
  {
   "cell_type": "code",
   "execution_count": 31,
   "id": "9016676a",
   "metadata": {},
   "outputs": [],
   "source": [
    "data.JobSatisfaction =data.JobSatisfaction.map({1: 'Low',\n",
    "                                                2: 'Medium',\n",
    "                                                3: 'High',\n",
    "                                                4: 'Very High'})"
   ]
  },
  {
   "cell_type": "code",
   "execution_count": 32,
   "id": "ba31ed92",
   "metadata": {},
   "outputs": [
    {
     "data": {
      "text/plain": [
       "array(['Very High', 'Medium', 'High', 'Low'], dtype=object)"
      ]
     },
     "execution_count": 32,
     "metadata": {},
     "output_type": "execute_result"
    }
   ],
   "source": [
    "data.JobSatisfaction.unique()"
   ]
  },
  {
   "cell_type": "markdown",
   "id": "609563cf",
   "metadata": {},
   "source": [
    "Everything looks okay here so we move on to the next\n",
    "### MaritalStatus"
   ]
  },
  {
   "cell_type": "code",
   "execution_count": 33,
   "id": "3ad451c3",
   "metadata": {},
   "outputs": [
    {
     "data": {
      "text/plain": [
       "array(['Single', 'Married', 'Divorced'], dtype=object)"
      ]
     },
     "execution_count": 33,
     "metadata": {},
     "output_type": "execute_result"
    }
   ],
   "source": [
    "data.MaritalStatus.unique()"
   ]
  },
  {
   "cell_type": "markdown",
   "id": "53d721a6",
   "metadata": {},
   "source": [
    "Everything looks okay here so we move on to the next\n",
    "### OverTime"
   ]
  },
  {
   "cell_type": "code",
   "execution_count": 34,
   "id": "760d954e",
   "metadata": {},
   "outputs": [
    {
     "data": {
      "text/plain": [
       "array(['Yes', 'No'], dtype=object)"
      ]
     },
     "execution_count": 34,
     "metadata": {},
     "output_type": "execute_result"
    }
   ],
   "source": [
    "data.OverTime.unique()"
   ]
  },
  {
   "cell_type": "markdown",
   "id": "7a4234cf",
   "metadata": {},
   "source": [
    "Everything looks okay here so we move on to the next\n",
    "### PerformanceRating"
   ]
  },
  {
   "cell_type": "code",
   "execution_count": 35,
   "id": "0713b953",
   "metadata": {},
   "outputs": [
    {
     "data": {
      "text/plain": [
       "array([3, 4], dtype=int64)"
      ]
     },
     "execution_count": 35,
     "metadata": {},
     "output_type": "execute_result"
    }
   ],
   "source": [
    "data.PerformanceRating.unique()"
   ]
  },
  {
   "cell_type": "code",
   "execution_count": 36,
   "id": "4cac23a6",
   "metadata": {},
   "outputs": [],
   "source": [
    "data.PerformanceRating = data.PerformanceRating.map({3: \"Excellent\",\n",
    "                                                     4: \"Outstanding\"})"
   ]
  },
  {
   "cell_type": "code",
   "execution_count": 37,
   "id": "2aefbb5b",
   "metadata": {},
   "outputs": [
    {
     "data": {
      "text/plain": [
       "array(['Excellent', 'Outstanding'], dtype=object)"
      ]
     },
     "execution_count": 37,
     "metadata": {},
     "output_type": "execute_result"
    }
   ],
   "source": [
    "data.PerformanceRating.unique()"
   ]
  },
  {
   "cell_type": "markdown",
   "id": "362dee49",
   "metadata": {},
   "source": [
    "Everything looks okay here so we move on to the next\n",
    "### RelationshipSatisfaction"
   ]
  },
  {
   "cell_type": "code",
   "execution_count": 38,
   "id": "c6949da0",
   "metadata": {},
   "outputs": [
    {
     "data": {
      "text/plain": [
       "array([1, 4, 2, 3], dtype=int64)"
      ]
     },
     "execution_count": 38,
     "metadata": {},
     "output_type": "execute_result"
    }
   ],
   "source": [
    "data.RelationshipSatisfaction.unique()"
   ]
  },
  {
   "cell_type": "code",
   "execution_count": 39,
   "id": "bc8e4cc7",
   "metadata": {},
   "outputs": [],
   "source": [
    "data.RelationshipSatisfaction = data.RelationshipSatisfaction.map({1: 'Low',\n",
    "                                                                   2: 'Medium',\n",
    "                                                                   3: 'High',\n",
    "                                                                   4: 'Very High'})"
   ]
  },
  {
   "cell_type": "code",
   "execution_count": 40,
   "id": "04c7df22",
   "metadata": {},
   "outputs": [
    {
     "data": {
      "text/plain": [
       "array(['Low', 'Very High', 'Medium', 'High'], dtype=object)"
      ]
     },
     "execution_count": 40,
     "metadata": {},
     "output_type": "execute_result"
    }
   ],
   "source": [
    "data.RelationshipSatisfaction.unique()"
   ]
  },
  {
   "cell_type": "markdown",
   "id": "fe125cd9",
   "metadata": {},
   "source": [
    "Everything looks okay here so we move on to the next\n",
    "### StockOptionLevel"
   ]
  },
  {
   "cell_type": "code",
   "execution_count": 41,
   "id": "6524b92f",
   "metadata": {},
   "outputs": [
    {
     "data": {
      "text/plain": [
       "array([0, 1, 3, 2], dtype=int64)"
      ]
     },
     "execution_count": 41,
     "metadata": {},
     "output_type": "execute_result"
    }
   ],
   "source": [
    "data.StockOptionLevel.unique()"
   ]
  },
  {
   "cell_type": "code",
   "execution_count": 42,
   "id": "0389d8e0",
   "metadata": {},
   "outputs": [],
   "source": [
    "data.StockOptionLevel = \"Lvl \" + data.StockOptionLevel.astype(str)"
   ]
  },
  {
   "cell_type": "code",
   "execution_count": 43,
   "id": "e5f7f39b",
   "metadata": {},
   "outputs": [
    {
     "data": {
      "text/plain": [
       "array(['Lvl 0', 'Lvl 1', 'Lvl 3', 'Lvl 2'], dtype=object)"
      ]
     },
     "execution_count": 43,
     "metadata": {},
     "output_type": "execute_result"
    }
   ],
   "source": [
    "data.StockOptionLevel.unique()"
   ]
  },
  {
   "cell_type": "markdown",
   "id": "30d676fd",
   "metadata": {},
   "source": [
    "Everything looks okay here so we move on to the next\n",
    "### WorkLifeBalance"
   ]
  },
  {
   "cell_type": "code",
   "execution_count": 44,
   "id": "049f0687",
   "metadata": {},
   "outputs": [
    {
     "data": {
      "text/plain": [
       "array([1, 3, 2, 4], dtype=int64)"
      ]
     },
     "execution_count": 44,
     "metadata": {},
     "output_type": "execute_result"
    }
   ],
   "source": [
    "data.WorkLifeBalance.unique()"
   ]
  },
  {
   "cell_type": "code",
   "execution_count": 45,
   "id": "feb27878",
   "metadata": {},
   "outputs": [],
   "source": [
    "data.WorkLifeBalance = data.WorkLifeBalance.map({1: 'Bad',\n",
    "                                                 2: 'Good',\n",
    "                                                 3: 'Better',\n",
    "                                                 4: 'Best'})"
   ]
  },
  {
   "cell_type": "code",
   "execution_count": 46,
   "id": "99a924f7",
   "metadata": {},
   "outputs": [
    {
     "data": {
      "text/plain": [
       "array(['Bad', 'Better', 'Good', 'Best'], dtype=object)"
      ]
     },
     "execution_count": 46,
     "metadata": {},
     "output_type": "execute_result"
    }
   ],
   "source": [
    "data.WorkLifeBalance.unique()"
   ]
  },
  {
   "cell_type": "markdown",
   "id": "51629e72",
   "metadata": {},
   "source": [
    "Everything looks okay here so we move on to the next\n",
    "### All columns that deals with years"
   ]
  },
  {
   "cell_type": "code",
   "execution_count": 47,
   "id": "d67a9c3f",
   "metadata": {},
   "outputs": [],
   "source": [
    "# We start by creating BINS for this year group\n",
    "bins = [0, 10, 20, 30]\n",
    "group = ['0-10 years', '11-20 years', '21-29 years']\n",
    "\n",
    "# Creating BINS\n",
    "data['TotalWorkingYears'] = pd.cut(data['TotalWorkingYears'],\n",
    "                                   bins=bins,\n",
    "                                   labels=group,\n",
    "                                   right=False).cat.add_categories('31-40 years').fillna('31-40 years')\n",
    "\n",
    "\n",
    "data['YearsAtCompany'] = pd.cut(data['YearsAtCompany'],\n",
    "                                bins=bins,\n",
    "                                labels=group,\n",
    "                                right=False).cat.add_categories('31-40 years').fillna('31-40 years')"
   ]
  },
  {
   "cell_type": "code",
   "execution_count": 48,
   "id": "be07ba46",
   "metadata": {},
   "outputs": [],
   "source": [
    "# Appending years to the remainig data that deals with years\n",
    "yrs = ['TrainingTimesLastYear', 'YearsInCurrentRole', 'YearsSinceLastPromotion', 'YearsWithCurrManager']"
   ]
  },
  {
   "cell_type": "code",
   "execution_count": 49,
   "id": "b050dd41",
   "metadata": {},
   "outputs": [],
   "source": [
    "# Funciton to append years or year to data\n",
    "def years(col):\n",
    "    data[col] = data[col].astype(str) + \" \" + np.where(data[col] == 0, 'year', 'years')"
   ]
  },
  {
   "cell_type": "code",
   "execution_count": 50,
   "id": "907bbe34",
   "metadata": {},
   "outputs": [
    {
     "name": "stdout",
     "output_type": "stream",
     "text": [
      "TrainingTimesLastYear Successfully imputed\n",
      "\n",
      "YearsInCurrentRole Successfully imputed\n",
      "\n",
      "YearsSinceLastPromotion Successfully imputed\n",
      "\n",
      "YearsWithCurrManager Successfully imputed\n",
      "\n"
     ]
    }
   ],
   "source": [
    "for i in yrs:\n",
    "    years(i)\n",
    "    print(f\"{i} Successfully imputed\\n\")"
   ]
  },
  {
   "cell_type": "code",
   "execution_count": 51,
   "id": "1cdda568",
   "metadata": {},
   "outputs": [
    {
     "data": {
      "text/html": [
       "<div>\n",
       "<style scoped>\n",
       "    .dataframe tbody tr th:only-of-type {\n",
       "        vertical-align: middle;\n",
       "    }\n",
       "\n",
       "    .dataframe tbody tr th {\n",
       "        vertical-align: top;\n",
       "    }\n",
       "\n",
       "    .dataframe thead th {\n",
       "        text-align: right;\n",
       "    }\n",
       "</style>\n",
       "<table border=\"1\" class=\"dataframe\">\n",
       "  <thead>\n",
       "    <tr style=\"text-align: right;\">\n",
       "      <th></th>\n",
       "      <th>id</th>\n",
       "      <th>Age</th>\n",
       "      <th>Attrition</th>\n",
       "      <th>BusinessTravel</th>\n",
       "      <th>DailyRate</th>\n",
       "      <th>Department</th>\n",
       "      <th>DistanceFromHome</th>\n",
       "      <th>Education</th>\n",
       "      <th>EducationField</th>\n",
       "      <th>EmployeeCount</th>\n",
       "      <th>EmployeeNumber</th>\n",
       "      <th>EnvironmentSatisfaction</th>\n",
       "      <th>Gender</th>\n",
       "      <th>HourlyRate</th>\n",
       "      <th>JobInvolvement</th>\n",
       "      <th>JobLevel</th>\n",
       "      <th>JobRole</th>\n",
       "      <th>JobSatisfaction</th>\n",
       "      <th>MaritalStatus</th>\n",
       "      <th>MonthlyIncome</th>\n",
       "      <th>MonthlyRate</th>\n",
       "      <th>NumCompaniesWorked</th>\n",
       "      <th>Over18</th>\n",
       "      <th>OverTime</th>\n",
       "      <th>PercentSalaryHike</th>\n",
       "      <th>PerformanceRating</th>\n",
       "      <th>RelationshipSatisfaction</th>\n",
       "      <th>StandardHours</th>\n",
       "      <th>StockOptionLevel</th>\n",
       "      <th>TotalWorkingYears</th>\n",
       "      <th>TrainingTimesLastYear</th>\n",
       "      <th>WorkLifeBalance</th>\n",
       "      <th>YearsAtCompany</th>\n",
       "      <th>YearsInCurrentRole</th>\n",
       "      <th>YearsSinceLastPromotion</th>\n",
       "      <th>YearsWithCurrManager</th>\n",
       "      <th>AgeGroup</th>\n",
       "      <th>DistanceFrom_Home</th>\n",
       "    </tr>\n",
       "  </thead>\n",
       "  <tbody>\n",
       "    <tr>\n",
       "      <th>1151</th>\n",
       "      <td>1152</td>\n",
       "      <td>28</td>\n",
       "      <td>No</td>\n",
       "      <td>Travel Rarely</td>\n",
       "      <td>580</td>\n",
       "      <td>Research &amp; Development</td>\n",
       "      <td>27</td>\n",
       "      <td>Bachelor</td>\n",
       "      <td>Medical</td>\n",
       "      <td>1</td>\n",
       "      <td>1622</td>\n",
       "      <td>Medium</td>\n",
       "      <td>Female</td>\n",
       "      <td>39</td>\n",
       "      <td>Low</td>\n",
       "      <td>Lvl 2</td>\n",
       "      <td>Manufacturing Director</td>\n",
       "      <td>Low</td>\n",
       "      <td>Divorced</td>\n",
       "      <td>4877</td>\n",
       "      <td>20460</td>\n",
       "      <td>0</td>\n",
       "      <td>Y</td>\n",
       "      <td>No</td>\n",
       "      <td>21</td>\n",
       "      <td>Outstanding</td>\n",
       "      <td>Medium</td>\n",
       "      <td>80</td>\n",
       "      <td>Lvl 1</td>\n",
       "      <td>0-10 years</td>\n",
       "      <td>5 years</td>\n",
       "      <td>Good</td>\n",
       "      <td>0-10 years</td>\n",
       "      <td>3 years</td>\n",
       "      <td>0 year</td>\n",
       "      <td>0 year</td>\n",
       "      <td>20-29</td>\n",
       "      <td>Far</td>\n",
       "    </tr>\n",
       "    <tr>\n",
       "      <th>629</th>\n",
       "      <td>630</td>\n",
       "      <td>28</td>\n",
       "      <td>No</td>\n",
       "      <td>Travel Rarely</td>\n",
       "      <td>1169</td>\n",
       "      <td>Human Resources</td>\n",
       "      <td>8</td>\n",
       "      <td>College</td>\n",
       "      <td>Medical</td>\n",
       "      <td>1</td>\n",
       "      <td>869</td>\n",
       "      <td>Medium</td>\n",
       "      <td>Male</td>\n",
       "      <td>63</td>\n",
       "      <td>Medium</td>\n",
       "      <td>Lvl 1</td>\n",
       "      <td>Human Resources</td>\n",
       "      <td>Very High</td>\n",
       "      <td>Divorced</td>\n",
       "      <td>4936</td>\n",
       "      <td>23965</td>\n",
       "      <td>1</td>\n",
       "      <td>Y</td>\n",
       "      <td>No</td>\n",
       "      <td>13</td>\n",
       "      <td>Excellent</td>\n",
       "      <td>Very High</td>\n",
       "      <td>80</td>\n",
       "      <td>Lvl 1</td>\n",
       "      <td>0-10 years</td>\n",
       "      <td>6 years</td>\n",
       "      <td>Better</td>\n",
       "      <td>0-10 years</td>\n",
       "      <td>1 years</td>\n",
       "      <td>0 year</td>\n",
       "      <td>4 years</td>\n",
       "      <td>20-29</td>\n",
       "      <td>Very Close</td>\n",
       "    </tr>\n",
       "    <tr>\n",
       "      <th>446</th>\n",
       "      <td>447</td>\n",
       "      <td>41</td>\n",
       "      <td>No</td>\n",
       "      <td>Non Travel</td>\n",
       "      <td>267</td>\n",
       "      <td>Sales</td>\n",
       "      <td>10</td>\n",
       "      <td>College</td>\n",
       "      <td>Life Sciences</td>\n",
       "      <td>1</td>\n",
       "      <td>599</td>\n",
       "      <td>Very High</td>\n",
       "      <td>Male</td>\n",
       "      <td>56</td>\n",
       "      <td>High</td>\n",
       "      <td>Lvl 2</td>\n",
       "      <td>Sales Executive</td>\n",
       "      <td>Very High</td>\n",
       "      <td>Single</td>\n",
       "      <td>6230</td>\n",
       "      <td>13430</td>\n",
       "      <td>7</td>\n",
       "      <td>Y</td>\n",
       "      <td>No</td>\n",
       "      <td>14</td>\n",
       "      <td>Excellent</td>\n",
       "      <td>Very High</td>\n",
       "      <td>80</td>\n",
       "      <td>Lvl 0</td>\n",
       "      <td>11-20 years</td>\n",
       "      <td>3 years</td>\n",
       "      <td>Better</td>\n",
       "      <td>11-20 years</td>\n",
       "      <td>3 years</td>\n",
       "      <td>1 years</td>\n",
       "      <td>10 years</td>\n",
       "      <td>40-49</td>\n",
       "      <td>Very Close</td>\n",
       "    </tr>\n",
       "    <tr>\n",
       "      <th>584</th>\n",
       "      <td>585</td>\n",
       "      <td>42</td>\n",
       "      <td>No</td>\n",
       "      <td>Travel Frequently</td>\n",
       "      <td>570</td>\n",
       "      <td>Research &amp; Development</td>\n",
       "      <td>8</td>\n",
       "      <td>Bachelor</td>\n",
       "      <td>Life Sciences</td>\n",
       "      <td>1</td>\n",
       "      <td>809</td>\n",
       "      <td>Medium</td>\n",
       "      <td>Male</td>\n",
       "      <td>66</td>\n",
       "      <td>High</td>\n",
       "      <td>Lvl 5</td>\n",
       "      <td>Manager</td>\n",
       "      <td>Very High</td>\n",
       "      <td>Divorced</td>\n",
       "      <td>18430</td>\n",
       "      <td>16225</td>\n",
       "      <td>1</td>\n",
       "      <td>Y</td>\n",
       "      <td>No</td>\n",
       "      <td>13</td>\n",
       "      <td>Excellent</td>\n",
       "      <td>Medium</td>\n",
       "      <td>80</td>\n",
       "      <td>Lvl 1</td>\n",
       "      <td>21-29 years</td>\n",
       "      <td>4 years</td>\n",
       "      <td>Good</td>\n",
       "      <td>21-29 years</td>\n",
       "      <td>7 years</td>\n",
       "      <td>14 years</td>\n",
       "      <td>9 years</td>\n",
       "      <td>40-49</td>\n",
       "      <td>Very Close</td>\n",
       "    </tr>\n",
       "  </tbody>\n",
       "</table>\n",
       "</div>"
      ],
      "text/plain": [
       "        id  Age Attrition     BusinessTravel  DailyRate  \\\n",
       "1151  1152   28        No      Travel Rarely        580   \n",
       "629    630   28        No      Travel Rarely       1169   \n",
       "446    447   41        No         Non Travel        267   \n",
       "584    585   42        No  Travel Frequently        570   \n",
       "\n",
       "                  Department  DistanceFromHome Education EducationField  \\\n",
       "1151  Research & Development                27  Bachelor        Medical   \n",
       "629          Human Resources                 8   College        Medical   \n",
       "446                    Sales                10   College  Life Sciences   \n",
       "584   Research & Development                 8  Bachelor  Life Sciences   \n",
       "\n",
       "      EmployeeCount  EmployeeNumber EnvironmentSatisfaction  Gender  \\\n",
       "1151              1            1622                  Medium  Female   \n",
       "629               1             869                  Medium    Male   \n",
       "446               1             599               Very High    Male   \n",
       "584               1             809                  Medium    Male   \n",
       "\n",
       "      HourlyRate JobInvolvement JobLevel                 JobRole  \\\n",
       "1151          39            Low    Lvl 2  Manufacturing Director   \n",
       "629           63         Medium    Lvl 1         Human Resources   \n",
       "446           56           High    Lvl 2         Sales Executive   \n",
       "584           66           High    Lvl 5                 Manager   \n",
       "\n",
       "     JobSatisfaction MaritalStatus  MonthlyIncome  MonthlyRate  \\\n",
       "1151             Low      Divorced           4877        20460   \n",
       "629        Very High      Divorced           4936        23965   \n",
       "446        Very High        Single           6230        13430   \n",
       "584        Very High      Divorced          18430        16225   \n",
       "\n",
       "      NumCompaniesWorked Over18 OverTime  PercentSalaryHike PerformanceRating  \\\n",
       "1151                   0      Y       No                 21       Outstanding   \n",
       "629                    1      Y       No                 13         Excellent   \n",
       "446                    7      Y       No                 14         Excellent   \n",
       "584                    1      Y       No                 13         Excellent   \n",
       "\n",
       "     RelationshipSatisfaction  StandardHours StockOptionLevel  \\\n",
       "1151                   Medium             80            Lvl 1   \n",
       "629                 Very High             80            Lvl 1   \n",
       "446                 Very High             80            Lvl 0   \n",
       "584                    Medium             80            Lvl 1   \n",
       "\n",
       "     TotalWorkingYears TrainingTimesLastYear WorkLifeBalance YearsAtCompany  \\\n",
       "1151        0-10 years               5 years            Good     0-10 years   \n",
       "629         0-10 years               6 years          Better     0-10 years   \n",
       "446        11-20 years               3 years          Better    11-20 years   \n",
       "584        21-29 years               4 years            Good    21-29 years   \n",
       "\n",
       "     YearsInCurrentRole YearsSinceLastPromotion YearsWithCurrManager AgeGroup  \\\n",
       "1151            3 years                  0 year               0 year    20-29   \n",
       "629             1 years                  0 year              4 years    20-29   \n",
       "446             3 years                 1 years             10 years    40-49   \n",
       "584             7 years                14 years              9 years    40-49   \n",
       "\n",
       "     DistanceFrom_Home  \n",
       "1151               Far  \n",
       "629         Very Close  \n",
       "446         Very Close  \n",
       "584         Very Close  "
      ]
     },
     "execution_count": 51,
     "metadata": {},
     "output_type": "execute_result"
    }
   ],
   "source": [
    "data.sample(4)"
   ]
  },
  {
   "cell_type": "markdown",
   "id": "31e37f82",
   "metadata": {},
   "source": [
    "#### Selecting the columns that would bring more meaning during analysis"
   ]
  },
  {
   "cell_type": "code",
   "execution_count": 52,
   "id": "b998187e",
   "metadata": {},
   "outputs": [],
   "source": [
    "data = data[['AgeGroup', 'Gender', 'MaritalStatus', 'Attrition', 'BusinessTravel', 'DistanceFrom_Home', 'Department',\n",
    "             'Education', 'EducationField', 'EnvironmentSatisfaction', 'JobInvolvement', 'JobLevel', 'JobRole',\n",
    "             'JobSatisfaction', 'HourlyRate', 'DailyRate', 'MonthlyIncome', 'MonthlyRate', 'NumCompaniesWorked',\n",
    "             'OverTime', 'PercentSalaryHike', 'PerformanceRating', 'RelationshipSatisfaction', 'StandardHours',\n",
    "             'StockOptionLevel', 'TotalWorkingYears', 'TrainingTimesLastYear', 'WorkLifeBalance', 'YearsAtCompany', \n",
    "             'YearsInCurrentRole', 'YearsSinceLastPromotion', 'YearsWithCurrManager']]"
   ]
  },
  {
   "cell_type": "code",
   "execution_count": 53,
   "id": "bdd37587",
   "metadata": {},
   "outputs": [
    {
     "data": {
      "text/html": [
       "<div>\n",
       "<style scoped>\n",
       "    .dataframe tbody tr th:only-of-type {\n",
       "        vertical-align: middle;\n",
       "    }\n",
       "\n",
       "    .dataframe tbody tr th {\n",
       "        vertical-align: top;\n",
       "    }\n",
       "\n",
       "    .dataframe thead th {\n",
       "        text-align: right;\n",
       "    }\n",
       "</style>\n",
       "<table border=\"1\" class=\"dataframe\">\n",
       "  <thead>\n",
       "    <tr style=\"text-align: right;\">\n",
       "      <th></th>\n",
       "      <th>id</th>\n",
       "      <th>Age</th>\n",
       "      <th>Attrition</th>\n",
       "      <th>BusinessTravel</th>\n",
       "      <th>DailyRate</th>\n",
       "      <th>Department</th>\n",
       "      <th>DistanceFromHome</th>\n",
       "      <th>Education</th>\n",
       "      <th>EducationField</th>\n",
       "      <th>EmployeeCount</th>\n",
       "      <th>EmployeeNumber</th>\n",
       "      <th>EnvironmentSatisfaction</th>\n",
       "      <th>Gender</th>\n",
       "      <th>HourlyRate</th>\n",
       "      <th>JobInvolvement</th>\n",
       "      <th>JobLevel</th>\n",
       "      <th>JobRole</th>\n",
       "      <th>JobSatisfaction</th>\n",
       "      <th>MaritalStatus</th>\n",
       "      <th>MonthlyIncome</th>\n",
       "      <th>MonthlyRate</th>\n",
       "      <th>NumCompaniesWorked</th>\n",
       "      <th>Over18</th>\n",
       "      <th>OverTime</th>\n",
       "      <th>PercentSalaryHike</th>\n",
       "      <th>PerformanceRating</th>\n",
       "      <th>RelationshipSatisfaction</th>\n",
       "      <th>StandardHours</th>\n",
       "      <th>StockOptionLevel</th>\n",
       "      <th>TotalWorkingYears</th>\n",
       "      <th>TrainingTimesLastYear</th>\n",
       "      <th>WorkLifeBalance</th>\n",
       "      <th>YearsAtCompany</th>\n",
       "      <th>YearsInCurrentRole</th>\n",
       "      <th>YearsSinceLastPromotion</th>\n",
       "      <th>YearsWithCurrManager</th>\n",
       "    </tr>\n",
       "  </thead>\n",
       "  <tbody>\n",
       "    <tr>\n",
       "      <th>467</th>\n",
       "      <td>468</td>\n",
       "      <td>37</td>\n",
       "      <td>No</td>\n",
       "      <td>Non-Travel</td>\n",
       "      <td>142</td>\n",
       "      <td>Sales</td>\n",
       "      <td>9</td>\n",
       "      <td>4</td>\n",
       "      <td>Medical</td>\n",
       "      <td>1</td>\n",
       "      <td>626</td>\n",
       "      <td>1</td>\n",
       "      <td>Male</td>\n",
       "      <td>69</td>\n",
       "      <td>3</td>\n",
       "      <td>3</td>\n",
       "      <td>Sales Executive</td>\n",
       "      <td>2</td>\n",
       "      <td>Divorced</td>\n",
       "      <td>8834</td>\n",
       "      <td>24666</td>\n",
       "      <td>1</td>\n",
       "      <td>Y</td>\n",
       "      <td>No</td>\n",
       "      <td>13</td>\n",
       "      <td>3</td>\n",
       "      <td>4</td>\n",
       "      <td>80</td>\n",
       "      <td>1</td>\n",
       "      <td>9</td>\n",
       "      <td>6</td>\n",
       "      <td>3</td>\n",
       "      <td>9</td>\n",
       "      <td>5</td>\n",
       "      <td>7</td>\n",
       "      <td>7</td>\n",
       "    </tr>\n",
       "    <tr>\n",
       "      <th>502</th>\n",
       "      <td>503</td>\n",
       "      <td>53</td>\n",
       "      <td>No</td>\n",
       "      <td>Travel_Rarely</td>\n",
       "      <td>238</td>\n",
       "      <td>Sales</td>\n",
       "      <td>1</td>\n",
       "      <td>1</td>\n",
       "      <td>Medical</td>\n",
       "      <td>1</td>\n",
       "      <td>682</td>\n",
       "      <td>4</td>\n",
       "      <td>Female</td>\n",
       "      <td>34</td>\n",
       "      <td>3</td>\n",
       "      <td>2</td>\n",
       "      <td>Sales Executive</td>\n",
       "      <td>1</td>\n",
       "      <td>Single</td>\n",
       "      <td>8381</td>\n",
       "      <td>7507</td>\n",
       "      <td>7</td>\n",
       "      <td>Y</td>\n",
       "      <td>No</td>\n",
       "      <td>20</td>\n",
       "      <td>4</td>\n",
       "      <td>4</td>\n",
       "      <td>80</td>\n",
       "      <td>0</td>\n",
       "      <td>18</td>\n",
       "      <td>2</td>\n",
       "      <td>4</td>\n",
       "      <td>14</td>\n",
       "      <td>7</td>\n",
       "      <td>8</td>\n",
       "      <td>10</td>\n",
       "    </tr>\n",
       "    <tr>\n",
       "      <th>1266</th>\n",
       "      <td>1267</td>\n",
       "      <td>41</td>\n",
       "      <td>No</td>\n",
       "      <td>Travel_Rarely</td>\n",
       "      <td>548</td>\n",
       "      <td>Research &amp; Development</td>\n",
       "      <td>9</td>\n",
       "      <td>4</td>\n",
       "      <td>Life Sciences</td>\n",
       "      <td>1</td>\n",
       "      <td>1772</td>\n",
       "      <td>3</td>\n",
       "      <td>Male</td>\n",
       "      <td>94</td>\n",
       "      <td>3</td>\n",
       "      <td>1</td>\n",
       "      <td>Laboratory Technician</td>\n",
       "      <td>1</td>\n",
       "      <td>Divorced</td>\n",
       "      <td>2289</td>\n",
       "      <td>20520</td>\n",
       "      <td>1</td>\n",
       "      <td>Y</td>\n",
       "      <td>No</td>\n",
       "      <td>20</td>\n",
       "      <td>4</td>\n",
       "      <td>2</td>\n",
       "      <td>80</td>\n",
       "      <td>2</td>\n",
       "      <td>5</td>\n",
       "      <td>2</td>\n",
       "      <td>3</td>\n",
       "      <td>5</td>\n",
       "      <td>3</td>\n",
       "      <td>0</td>\n",
       "      <td>4</td>\n",
       "    </tr>\n",
       "    <tr>\n",
       "      <th>438</th>\n",
       "      <td>439</td>\n",
       "      <td>35</td>\n",
       "      <td>No</td>\n",
       "      <td>Travel_Rarely</td>\n",
       "      <td>1276</td>\n",
       "      <td>Research &amp; Development</td>\n",
       "      <td>16</td>\n",
       "      <td>3</td>\n",
       "      <td>Life Sciences</td>\n",
       "      <td>1</td>\n",
       "      <td>586</td>\n",
       "      <td>4</td>\n",
       "      <td>Male</td>\n",
       "      <td>72</td>\n",
       "      <td>3</td>\n",
       "      <td>3</td>\n",
       "      <td>Healthcare Representative</td>\n",
       "      <td>3</td>\n",
       "      <td>Married</td>\n",
       "      <td>7632</td>\n",
       "      <td>14295</td>\n",
       "      <td>4</td>\n",
       "      <td>Y</td>\n",
       "      <td>Yes</td>\n",
       "      <td>12</td>\n",
       "      <td>3</td>\n",
       "      <td>3</td>\n",
       "      <td>80</td>\n",
       "      <td>0</td>\n",
       "      <td>10</td>\n",
       "      <td>2</td>\n",
       "      <td>3</td>\n",
       "      <td>8</td>\n",
       "      <td>7</td>\n",
       "      <td>0</td>\n",
       "      <td>0</td>\n",
       "    </tr>\n",
       "    <tr>\n",
       "      <th>977</th>\n",
       "      <td>978</td>\n",
       "      <td>34</td>\n",
       "      <td>No</td>\n",
       "      <td>Non-Travel</td>\n",
       "      <td>999</td>\n",
       "      <td>Research &amp; Development</td>\n",
       "      <td>26</td>\n",
       "      <td>1</td>\n",
       "      <td>Technical Degree</td>\n",
       "      <td>1</td>\n",
       "      <td>1374</td>\n",
       "      <td>1</td>\n",
       "      <td>Female</td>\n",
       "      <td>92</td>\n",
       "      <td>2</td>\n",
       "      <td>1</td>\n",
       "      <td>Research Scientist</td>\n",
       "      <td>3</td>\n",
       "      <td>Divorced</td>\n",
       "      <td>2029</td>\n",
       "      <td>15891</td>\n",
       "      <td>1</td>\n",
       "      <td>Y</td>\n",
       "      <td>No</td>\n",
       "      <td>20</td>\n",
       "      <td>4</td>\n",
       "      <td>3</td>\n",
       "      <td>80</td>\n",
       "      <td>3</td>\n",
       "      <td>5</td>\n",
       "      <td>2</td>\n",
       "      <td>3</td>\n",
       "      <td>5</td>\n",
       "      <td>4</td>\n",
       "      <td>0</td>\n",
       "      <td>0</td>\n",
       "    </tr>\n",
       "    <tr>\n",
       "      <th>1233</th>\n",
       "      <td>1234</td>\n",
       "      <td>30</td>\n",
       "      <td>No</td>\n",
       "      <td>Travel_Rarely</td>\n",
       "      <td>793</td>\n",
       "      <td>Research &amp; Development</td>\n",
       "      <td>16</td>\n",
       "      <td>1</td>\n",
       "      <td>Life Sciences</td>\n",
       "      <td>1</td>\n",
       "      <td>1729</td>\n",
       "      <td>2</td>\n",
       "      <td>Male</td>\n",
       "      <td>33</td>\n",
       "      <td>3</td>\n",
       "      <td>1</td>\n",
       "      <td>Research Scientist</td>\n",
       "      <td>4</td>\n",
       "      <td>Married</td>\n",
       "      <td>2862</td>\n",
       "      <td>3811</td>\n",
       "      <td>1</td>\n",
       "      <td>Y</td>\n",
       "      <td>No</td>\n",
       "      <td>12</td>\n",
       "      <td>3</td>\n",
       "      <td>2</td>\n",
       "      <td>80</td>\n",
       "      <td>1</td>\n",
       "      <td>10</td>\n",
       "      <td>2</td>\n",
       "      <td>2</td>\n",
       "      <td>10</td>\n",
       "      <td>0</td>\n",
       "      <td>0</td>\n",
       "      <td>8</td>\n",
       "    </tr>\n",
       "    <tr>\n",
       "      <th>205</th>\n",
       "      <td>206</td>\n",
       "      <td>29</td>\n",
       "      <td>Yes</td>\n",
       "      <td>Travel_Rarely</td>\n",
       "      <td>121</td>\n",
       "      <td>Sales</td>\n",
       "      <td>27</td>\n",
       "      <td>3</td>\n",
       "      <td>Marketing</td>\n",
       "      <td>1</td>\n",
       "      <td>283</td>\n",
       "      <td>2</td>\n",
       "      <td>Female</td>\n",
       "      <td>35</td>\n",
       "      <td>3</td>\n",
       "      <td>3</td>\n",
       "      <td>Sales Executive</td>\n",
       "      <td>4</td>\n",
       "      <td>Married</td>\n",
       "      <td>7639</td>\n",
       "      <td>24525</td>\n",
       "      <td>1</td>\n",
       "      <td>Y</td>\n",
       "      <td>No</td>\n",
       "      <td>22</td>\n",
       "      <td>4</td>\n",
       "      <td>4</td>\n",
       "      <td>80</td>\n",
       "      <td>3</td>\n",
       "      <td>10</td>\n",
       "      <td>3</td>\n",
       "      <td>2</td>\n",
       "      <td>10</td>\n",
       "      <td>4</td>\n",
       "      <td>1</td>\n",
       "      <td>9</td>\n",
       "    </tr>\n",
       "    <tr>\n",
       "      <th>332</th>\n",
       "      <td>333</td>\n",
       "      <td>54</td>\n",
       "      <td>No</td>\n",
       "      <td>Travel_Frequently</td>\n",
       "      <td>928</td>\n",
       "      <td>Research &amp; Development</td>\n",
       "      <td>20</td>\n",
       "      <td>4</td>\n",
       "      <td>Life Sciences</td>\n",
       "      <td>1</td>\n",
       "      <td>450</td>\n",
       "      <td>4</td>\n",
       "      <td>Female</td>\n",
       "      <td>31</td>\n",
       "      <td>3</td>\n",
       "      <td>2</td>\n",
       "      <td>Research Scientist</td>\n",
       "      <td>3</td>\n",
       "      <td>Single</td>\n",
       "      <td>4869</td>\n",
       "      <td>16885</td>\n",
       "      <td>3</td>\n",
       "      <td>Y</td>\n",
       "      <td>No</td>\n",
       "      <td>12</td>\n",
       "      <td>3</td>\n",
       "      <td>4</td>\n",
       "      <td>80</td>\n",
       "      <td>0</td>\n",
       "      <td>20</td>\n",
       "      <td>4</td>\n",
       "      <td>2</td>\n",
       "      <td>4</td>\n",
       "      <td>3</td>\n",
       "      <td>0</td>\n",
       "      <td>3</td>\n",
       "    </tr>\n",
       "    <tr>\n",
       "      <th>705</th>\n",
       "      <td>706</td>\n",
       "      <td>39</td>\n",
       "      <td>No</td>\n",
       "      <td>Travel_Rarely</td>\n",
       "      <td>903</td>\n",
       "      <td>Sales</td>\n",
       "      <td>2</td>\n",
       "      <td>5</td>\n",
       "      <td>Life Sciences</td>\n",
       "      <td>1</td>\n",
       "      <td>985</td>\n",
       "      <td>1</td>\n",
       "      <td>Male</td>\n",
       "      <td>41</td>\n",
       "      <td>4</td>\n",
       "      <td>3</td>\n",
       "      <td>Sales Executive</td>\n",
       "      <td>3</td>\n",
       "      <td>Single</td>\n",
       "      <td>7880</td>\n",
       "      <td>2560</td>\n",
       "      <td>0</td>\n",
       "      <td>Y</td>\n",
       "      <td>No</td>\n",
       "      <td>18</td>\n",
       "      <td>3</td>\n",
       "      <td>4</td>\n",
       "      <td>80</td>\n",
       "      <td>0</td>\n",
       "      <td>9</td>\n",
       "      <td>3</td>\n",
       "      <td>3</td>\n",
       "      <td>8</td>\n",
       "      <td>7</td>\n",
       "      <td>0</td>\n",
       "      <td>7</td>\n",
       "    </tr>\n",
       "    <tr>\n",
       "      <th>1283</th>\n",
       "      <td>1284</td>\n",
       "      <td>28</td>\n",
       "      <td>No</td>\n",
       "      <td>Travel_Rarely</td>\n",
       "      <td>1181</td>\n",
       "      <td>Research &amp; Development</td>\n",
       "      <td>1</td>\n",
       "      <td>3</td>\n",
       "      <td>Life Sciences</td>\n",
       "      <td>1</td>\n",
       "      <td>1799</td>\n",
       "      <td>3</td>\n",
       "      <td>Male</td>\n",
       "      <td>82</td>\n",
       "      <td>3</td>\n",
       "      <td>1</td>\n",
       "      <td>Research Scientist</td>\n",
       "      <td>4</td>\n",
       "      <td>Married</td>\n",
       "      <td>2044</td>\n",
       "      <td>5531</td>\n",
       "      <td>1</td>\n",
       "      <td>Y</td>\n",
       "      <td>No</td>\n",
       "      <td>11</td>\n",
       "      <td>3</td>\n",
       "      <td>3</td>\n",
       "      <td>80</td>\n",
       "      <td>1</td>\n",
       "      <td>5</td>\n",
       "      <td>6</td>\n",
       "      <td>4</td>\n",
       "      <td>5</td>\n",
       "      <td>3</td>\n",
       "      <td>0</td>\n",
       "      <td>3</td>\n",
       "    </tr>\n",
       "  </tbody>\n",
       "</table>\n",
       "</div>"
      ],
      "text/plain": [
       "        id  Age Attrition     BusinessTravel  DailyRate  \\\n",
       "467    468   37        No         Non-Travel        142   \n",
       "502    503   53        No      Travel_Rarely        238   \n",
       "1266  1267   41        No      Travel_Rarely        548   \n",
       "438    439   35        No      Travel_Rarely       1276   \n",
       "977    978   34        No         Non-Travel        999   \n",
       "1233  1234   30        No      Travel_Rarely        793   \n",
       "205    206   29       Yes      Travel_Rarely        121   \n",
       "332    333   54        No  Travel_Frequently        928   \n",
       "705    706   39        No      Travel_Rarely        903   \n",
       "1283  1284   28        No      Travel_Rarely       1181   \n",
       "\n",
       "                  Department  DistanceFromHome  Education    EducationField  \\\n",
       "467                    Sales                 9          4           Medical   \n",
       "502                    Sales                 1          1           Medical   \n",
       "1266  Research & Development                 9          4     Life Sciences   \n",
       "438   Research & Development                16          3     Life Sciences   \n",
       "977   Research & Development                26          1  Technical Degree   \n",
       "1233  Research & Development                16          1     Life Sciences   \n",
       "205                    Sales                27          3         Marketing   \n",
       "332   Research & Development                20          4     Life Sciences   \n",
       "705                    Sales                 2          5     Life Sciences   \n",
       "1283  Research & Development                 1          3     Life Sciences   \n",
       "\n",
       "      EmployeeCount  EmployeeNumber  EnvironmentSatisfaction  Gender  \\\n",
       "467               1             626                        1    Male   \n",
       "502               1             682                        4  Female   \n",
       "1266              1            1772                        3    Male   \n",
       "438               1             586                        4    Male   \n",
       "977               1            1374                        1  Female   \n",
       "1233              1            1729                        2    Male   \n",
       "205               1             283                        2  Female   \n",
       "332               1             450                        4  Female   \n",
       "705               1             985                        1    Male   \n",
       "1283              1            1799                        3    Male   \n",
       "\n",
       "      HourlyRate  JobInvolvement  JobLevel                    JobRole  \\\n",
       "467           69               3         3            Sales Executive   \n",
       "502           34               3         2            Sales Executive   \n",
       "1266          94               3         1      Laboratory Technician   \n",
       "438           72               3         3  Healthcare Representative   \n",
       "977           92               2         1         Research Scientist   \n",
       "1233          33               3         1         Research Scientist   \n",
       "205           35               3         3            Sales Executive   \n",
       "332           31               3         2         Research Scientist   \n",
       "705           41               4         3            Sales Executive   \n",
       "1283          82               3         1         Research Scientist   \n",
       "\n",
       "      JobSatisfaction MaritalStatus  MonthlyIncome  MonthlyRate  \\\n",
       "467                 2      Divorced           8834        24666   \n",
       "502                 1        Single           8381         7507   \n",
       "1266                1      Divorced           2289        20520   \n",
       "438                 3       Married           7632        14295   \n",
       "977                 3      Divorced           2029        15891   \n",
       "1233                4       Married           2862         3811   \n",
       "205                 4       Married           7639        24525   \n",
       "332                 3        Single           4869        16885   \n",
       "705                 3        Single           7880         2560   \n",
       "1283                4       Married           2044         5531   \n",
       "\n",
       "      NumCompaniesWorked Over18 OverTime  PercentSalaryHike  \\\n",
       "467                    1      Y       No                 13   \n",
       "502                    7      Y       No                 20   \n",
       "1266                   1      Y       No                 20   \n",
       "438                    4      Y      Yes                 12   \n",
       "977                    1      Y       No                 20   \n",
       "1233                   1      Y       No                 12   \n",
       "205                    1      Y       No                 22   \n",
       "332                    3      Y       No                 12   \n",
       "705                    0      Y       No                 18   \n",
       "1283                   1      Y       No                 11   \n",
       "\n",
       "      PerformanceRating  RelationshipSatisfaction  StandardHours  \\\n",
       "467                   3                         4             80   \n",
       "502                   4                         4             80   \n",
       "1266                  4                         2             80   \n",
       "438                   3                         3             80   \n",
       "977                   4                         3             80   \n",
       "1233                  3                         2             80   \n",
       "205                   4                         4             80   \n",
       "332                   3                         4             80   \n",
       "705                   3                         4             80   \n",
       "1283                  3                         3             80   \n",
       "\n",
       "      StockOptionLevel  TotalWorkingYears  TrainingTimesLastYear  \\\n",
       "467                  1                  9                      6   \n",
       "502                  0                 18                      2   \n",
       "1266                 2                  5                      2   \n",
       "438                  0                 10                      2   \n",
       "977                  3                  5                      2   \n",
       "1233                 1                 10                      2   \n",
       "205                  3                 10                      3   \n",
       "332                  0                 20                      4   \n",
       "705                  0                  9                      3   \n",
       "1283                 1                  5                      6   \n",
       "\n",
       "      WorkLifeBalance  YearsAtCompany  YearsInCurrentRole  \\\n",
       "467                 3               9                   5   \n",
       "502                 4              14                   7   \n",
       "1266                3               5                   3   \n",
       "438                 3               8                   7   \n",
       "977                 3               5                   4   \n",
       "1233                2              10                   0   \n",
       "205                 2              10                   4   \n",
       "332                 2               4                   3   \n",
       "705                 3               8                   7   \n",
       "1283                4               5                   3   \n",
       "\n",
       "      YearsSinceLastPromotion  YearsWithCurrManager  \n",
       "467                         7                     7  \n",
       "502                         8                    10  \n",
       "1266                        0                     4  \n",
       "438                         0                     0  \n",
       "977                         0                     0  \n",
       "1233                        0                     8  \n",
       "205                         1                     9  \n",
       "332                         0                     3  \n",
       "705                         0                     7  \n",
       "1283                        0                     3  "
      ]
     },
     "execution_count": 53,
     "metadata": {},
     "output_type": "execute_result"
    }
   ],
   "source": [
    "# Old dataframe\n",
    "dat.sample(10)"
   ]
  },
  {
   "cell_type": "code",
   "execution_count": 54,
   "id": "5985eadb",
   "metadata": {},
   "outputs": [
    {
     "data": {
      "text/html": [
       "<div>\n",
       "<style scoped>\n",
       "    .dataframe tbody tr th:only-of-type {\n",
       "        vertical-align: middle;\n",
       "    }\n",
       "\n",
       "    .dataframe tbody tr th {\n",
       "        vertical-align: top;\n",
       "    }\n",
       "\n",
       "    .dataframe thead th {\n",
       "        text-align: right;\n",
       "    }\n",
       "</style>\n",
       "<table border=\"1\" class=\"dataframe\">\n",
       "  <thead>\n",
       "    <tr style=\"text-align: right;\">\n",
       "      <th></th>\n",
       "      <th>AgeGroup</th>\n",
       "      <th>Gender</th>\n",
       "      <th>MaritalStatus</th>\n",
       "      <th>Attrition</th>\n",
       "      <th>BusinessTravel</th>\n",
       "      <th>DistanceFrom_Home</th>\n",
       "      <th>Department</th>\n",
       "      <th>Education</th>\n",
       "      <th>EducationField</th>\n",
       "      <th>EnvironmentSatisfaction</th>\n",
       "      <th>JobInvolvement</th>\n",
       "      <th>JobLevel</th>\n",
       "      <th>JobRole</th>\n",
       "      <th>JobSatisfaction</th>\n",
       "      <th>HourlyRate</th>\n",
       "      <th>DailyRate</th>\n",
       "      <th>MonthlyIncome</th>\n",
       "      <th>MonthlyRate</th>\n",
       "      <th>NumCompaniesWorked</th>\n",
       "      <th>OverTime</th>\n",
       "      <th>PercentSalaryHike</th>\n",
       "      <th>PerformanceRating</th>\n",
       "      <th>RelationshipSatisfaction</th>\n",
       "      <th>StandardHours</th>\n",
       "      <th>StockOptionLevel</th>\n",
       "      <th>TotalWorkingYears</th>\n",
       "      <th>TrainingTimesLastYear</th>\n",
       "      <th>WorkLifeBalance</th>\n",
       "      <th>YearsAtCompany</th>\n",
       "      <th>YearsInCurrentRole</th>\n",
       "      <th>YearsSinceLastPromotion</th>\n",
       "      <th>YearsWithCurrManager</th>\n",
       "    </tr>\n",
       "  </thead>\n",
       "  <tbody>\n",
       "    <tr>\n",
       "      <th>719</th>\n",
       "      <td>40-49</td>\n",
       "      <td>Female</td>\n",
       "      <td>Single</td>\n",
       "      <td>No</td>\n",
       "      <td>Travel Rarely</td>\n",
       "      <td>Very Close</td>\n",
       "      <td>Sales</td>\n",
       "      <td>College</td>\n",
       "      <td>Life Sciences</td>\n",
       "      <td>Very High</td>\n",
       "      <td>High</td>\n",
       "      <td>Lvl 2</td>\n",
       "      <td>Sales Executive</td>\n",
       "      <td>Very High</td>\n",
       "      <td>83</td>\n",
       "      <td>955</td>\n",
       "      <td>4163</td>\n",
       "      <td>8571</td>\n",
       "      <td>1</td>\n",
       "      <td>Yes</td>\n",
       "      <td>17</td>\n",
       "      <td>Excellent</td>\n",
       "      <td>High</td>\n",
       "      <td>80</td>\n",
       "      <td>Lvl 0</td>\n",
       "      <td>0-10 years</td>\n",
       "      <td>0 year</td>\n",
       "      <td>Better</td>\n",
       "      <td>0-10 years</td>\n",
       "      <td>0 year</td>\n",
       "      <td>0 year</td>\n",
       "      <td>7 years</td>\n",
       "    </tr>\n",
       "    <tr>\n",
       "      <th>1058</th>\n",
       "      <td>30-39</td>\n",
       "      <td>Female</td>\n",
       "      <td>Single</td>\n",
       "      <td>Yes</td>\n",
       "      <td>Travel Rarely</td>\n",
       "      <td>Far</td>\n",
       "      <td>Sales</td>\n",
       "      <td>Master</td>\n",
       "      <td>Medical</td>\n",
       "      <td>Low</td>\n",
       "      <td>Medium</td>\n",
       "      <td>Lvl 2</td>\n",
       "      <td>Sales Executive</td>\n",
       "      <td>Medium</td>\n",
       "      <td>40</td>\n",
       "      <td>790</td>\n",
       "      <td>4599</td>\n",
       "      <td>7815</td>\n",
       "      <td>0</td>\n",
       "      <td>Yes</td>\n",
       "      <td>23</td>\n",
       "      <td>Outstanding</td>\n",
       "      <td>High</td>\n",
       "      <td>80</td>\n",
       "      <td>Lvl 0</td>\n",
       "      <td>11-20 years</td>\n",
       "      <td>2 years</td>\n",
       "      <td>Best</td>\n",
       "      <td>11-20 years</td>\n",
       "      <td>9 years</td>\n",
       "      <td>10 years</td>\n",
       "      <td>10 years</td>\n",
       "    </tr>\n",
       "    <tr>\n",
       "      <th>770</th>\n",
       "      <td>40-49</td>\n",
       "      <td>Male</td>\n",
       "      <td>Divorced</td>\n",
       "      <td>No</td>\n",
       "      <td>Travel Rarely</td>\n",
       "      <td>Very Close</td>\n",
       "      <td>Research &amp; Development</td>\n",
       "      <td>Master</td>\n",
       "      <td>Medical</td>\n",
       "      <td>Very High</td>\n",
       "      <td>High</td>\n",
       "      <td>Lvl 5</td>\n",
       "      <td>Research Director</td>\n",
       "      <td>Very High</td>\n",
       "      <td>40</td>\n",
       "      <td>430</td>\n",
       "      <td>19627</td>\n",
       "      <td>21445</td>\n",
       "      <td>9</td>\n",
       "      <td>No</td>\n",
       "      <td>17</td>\n",
       "      <td>Excellent</td>\n",
       "      <td>Very High</td>\n",
       "      <td>80</td>\n",
       "      <td>Lvl 2</td>\n",
       "      <td>21-29 years</td>\n",
       "      <td>0 year</td>\n",
       "      <td>Better</td>\n",
       "      <td>0-10 years</td>\n",
       "      <td>2 years</td>\n",
       "      <td>2 years</td>\n",
       "      <td>2 years</td>\n",
       "    </tr>\n",
       "    <tr>\n",
       "      <th>1216</th>\n",
       "      <td>40-49</td>\n",
       "      <td>Male</td>\n",
       "      <td>Married</td>\n",
       "      <td>No</td>\n",
       "      <td>Travel Rarely</td>\n",
       "      <td>Very Close</td>\n",
       "      <td>Sales</td>\n",
       "      <td>Bachelor</td>\n",
       "      <td>Medical</td>\n",
       "      <td>Very High</td>\n",
       "      <td>High</td>\n",
       "      <td>Lvl 2</td>\n",
       "      <td>Sales Executive</td>\n",
       "      <td>Very High</td>\n",
       "      <td>73</td>\n",
       "      <td>1179</td>\n",
       "      <td>7847</td>\n",
       "      <td>6069</td>\n",
       "      <td>1</td>\n",
       "      <td>Yes</td>\n",
       "      <td>17</td>\n",
       "      <td>Excellent</td>\n",
       "      <td>Low</td>\n",
       "      <td>80</td>\n",
       "      <td>Lvl 1</td>\n",
       "      <td>11-20 years</td>\n",
       "      <td>3 years</td>\n",
       "      <td>Better</td>\n",
       "      <td>11-20 years</td>\n",
       "      <td>9 years</td>\n",
       "      <td>8 years</td>\n",
       "      <td>8 years</td>\n",
       "    </tr>\n",
       "    <tr>\n",
       "      <th>928</th>\n",
       "      <td>40-49</td>\n",
       "      <td>Female</td>\n",
       "      <td>Married</td>\n",
       "      <td>Yes</td>\n",
       "      <td>Travel Rarely</td>\n",
       "      <td>Close</td>\n",
       "      <td>Research &amp; Development</td>\n",
       "      <td>Bachelor</td>\n",
       "      <td>Medical</td>\n",
       "      <td>Low</td>\n",
       "      <td>High</td>\n",
       "      <td>Lvl 3</td>\n",
       "      <td>Healthcare Representative</td>\n",
       "      <td>Very High</td>\n",
       "      <td>73</td>\n",
       "      <td>621</td>\n",
       "      <td>7978</td>\n",
       "      <td>14075</td>\n",
       "      <td>1</td>\n",
       "      <td>No</td>\n",
       "      <td>11</td>\n",
       "      <td>Excellent</td>\n",
       "      <td>Very High</td>\n",
       "      <td>80</td>\n",
       "      <td>Lvl 1</td>\n",
       "      <td>11-20 years</td>\n",
       "      <td>2 years</td>\n",
       "      <td>Better</td>\n",
       "      <td>11-20 years</td>\n",
       "      <td>7 years</td>\n",
       "      <td>0 year</td>\n",
       "      <td>5 years</td>\n",
       "    </tr>\n",
       "    <tr>\n",
       "      <th>29</th>\n",
       "      <td>40-49</td>\n",
       "      <td>Female</td>\n",
       "      <td>Single</td>\n",
       "      <td>No</td>\n",
       "      <td>Travel Rarely</td>\n",
       "      <td>Very Close</td>\n",
       "      <td>Sales</td>\n",
       "      <td>Master</td>\n",
       "      <td>Marketing</td>\n",
       "      <td>Medium</td>\n",
       "      <td>High</td>\n",
       "      <td>Lvl 5</td>\n",
       "      <td>Manager</td>\n",
       "      <td>Low</td>\n",
       "      <td>83</td>\n",
       "      <td>705</td>\n",
       "      <td>18947</td>\n",
       "      <td>22822</td>\n",
       "      <td>3</td>\n",
       "      <td>No</td>\n",
       "      <td>12</td>\n",
       "      <td>Excellent</td>\n",
       "      <td>Very High</td>\n",
       "      <td>80</td>\n",
       "      <td>Lvl 0</td>\n",
       "      <td>21-29 years</td>\n",
       "      <td>2 years</td>\n",
       "      <td>Good</td>\n",
       "      <td>0-10 years</td>\n",
       "      <td>2 years</td>\n",
       "      <td>2 years</td>\n",
       "      <td>1 years</td>\n",
       "    </tr>\n",
       "    <tr>\n",
       "      <th>1151</th>\n",
       "      <td>20-29</td>\n",
       "      <td>Female</td>\n",
       "      <td>Divorced</td>\n",
       "      <td>No</td>\n",
       "      <td>Travel Rarely</td>\n",
       "      <td>Far</td>\n",
       "      <td>Research &amp; Development</td>\n",
       "      <td>Bachelor</td>\n",
       "      <td>Medical</td>\n",
       "      <td>Medium</td>\n",
       "      <td>Low</td>\n",
       "      <td>Lvl 2</td>\n",
       "      <td>Manufacturing Director</td>\n",
       "      <td>Low</td>\n",
       "      <td>39</td>\n",
       "      <td>580</td>\n",
       "      <td>4877</td>\n",
       "      <td>20460</td>\n",
       "      <td>0</td>\n",
       "      <td>No</td>\n",
       "      <td>21</td>\n",
       "      <td>Outstanding</td>\n",
       "      <td>Medium</td>\n",
       "      <td>80</td>\n",
       "      <td>Lvl 1</td>\n",
       "      <td>0-10 years</td>\n",
       "      <td>5 years</td>\n",
       "      <td>Good</td>\n",
       "      <td>0-10 years</td>\n",
       "      <td>3 years</td>\n",
       "      <td>0 year</td>\n",
       "      <td>0 year</td>\n",
       "    </tr>\n",
       "    <tr>\n",
       "      <th>1349</th>\n",
       "      <td>20-29</td>\n",
       "      <td>Female</td>\n",
       "      <td>Married</td>\n",
       "      <td>No</td>\n",
       "      <td>Travel Rarely</td>\n",
       "      <td>Very Close</td>\n",
       "      <td>Research &amp; Development</td>\n",
       "      <td>College</td>\n",
       "      <td>Life Sciences</td>\n",
       "      <td>Medium</td>\n",
       "      <td>Medium</td>\n",
       "      <td>Lvl 1</td>\n",
       "      <td>Research Scientist</td>\n",
       "      <td>High</td>\n",
       "      <td>90</td>\n",
       "      <td>482</td>\n",
       "      <td>2933</td>\n",
       "      <td>14908</td>\n",
       "      <td>1</td>\n",
       "      <td>Yes</td>\n",
       "      <td>13</td>\n",
       "      <td>Excellent</td>\n",
       "      <td>High</td>\n",
       "      <td>80</td>\n",
       "      <td>Lvl 1</td>\n",
       "      <td>0-10 years</td>\n",
       "      <td>3 years</td>\n",
       "      <td>Good</td>\n",
       "      <td>0-10 years</td>\n",
       "      <td>0 year</td>\n",
       "      <td>1 years</td>\n",
       "      <td>0 year</td>\n",
       "    </tr>\n",
       "    <tr>\n",
       "      <th>774</th>\n",
       "      <td>50-59</td>\n",
       "      <td>Male</td>\n",
       "      <td>Single</td>\n",
       "      <td>No</td>\n",
       "      <td>Non Travel</td>\n",
       "      <td>Very Close</td>\n",
       "      <td>Research &amp; Development</td>\n",
       "      <td>Below College</td>\n",
       "      <td>Medical</td>\n",
       "      <td>High</td>\n",
       "      <td>Medium</td>\n",
       "      <td>Lvl 4</td>\n",
       "      <td>Manager</td>\n",
       "      <td>Low</td>\n",
       "      <td>40</td>\n",
       "      <td>444</td>\n",
       "      <td>16756</td>\n",
       "      <td>17323</td>\n",
       "      <td>7</td>\n",
       "      <td>No</td>\n",
       "      <td>15</td>\n",
       "      <td>Excellent</td>\n",
       "      <td>Medium</td>\n",
       "      <td>80</td>\n",
       "      <td>Lvl 0</td>\n",
       "      <td>31-40 years</td>\n",
       "      <td>3 years</td>\n",
       "      <td>Best</td>\n",
       "      <td>0-10 years</td>\n",
       "      <td>7 years</td>\n",
       "      <td>6 years</td>\n",
       "      <td>2 years</td>\n",
       "    </tr>\n",
       "    <tr>\n",
       "      <th>1080</th>\n",
       "      <td>40-49</td>\n",
       "      <td>Female</td>\n",
       "      <td>Married</td>\n",
       "      <td>No</td>\n",
       "      <td>Travel Rarely</td>\n",
       "      <td>Very Close</td>\n",
       "      <td>Sales</td>\n",
       "      <td>Bachelor</td>\n",
       "      <td>Life Sciences</td>\n",
       "      <td>High</td>\n",
       "      <td>High</td>\n",
       "      <td>Lvl 4</td>\n",
       "      <td>Manager</td>\n",
       "      <td>Medium</td>\n",
       "      <td>51</td>\n",
       "      <td>228</td>\n",
       "      <td>16606</td>\n",
       "      <td>11380</td>\n",
       "      <td>8</td>\n",
       "      <td>No</td>\n",
       "      <td>12</td>\n",
       "      <td>Excellent</td>\n",
       "      <td>Very High</td>\n",
       "      <td>80</td>\n",
       "      <td>Lvl 1</td>\n",
       "      <td>21-29 years</td>\n",
       "      <td>2 years</td>\n",
       "      <td>Best</td>\n",
       "      <td>11-20 years</td>\n",
       "      <td>12 years</td>\n",
       "      <td>5 years</td>\n",
       "      <td>1 years</td>\n",
       "    </tr>\n",
       "  </tbody>\n",
       "</table>\n",
       "</div>"
      ],
      "text/plain": [
       "     AgeGroup  Gender MaritalStatus Attrition BusinessTravel  \\\n",
       "719     40-49  Female        Single        No  Travel Rarely   \n",
       "1058    30-39  Female        Single       Yes  Travel Rarely   \n",
       "770     40-49    Male      Divorced        No  Travel Rarely   \n",
       "1216    40-49    Male       Married        No  Travel Rarely   \n",
       "928     40-49  Female       Married       Yes  Travel Rarely   \n",
       "29      40-49  Female        Single        No  Travel Rarely   \n",
       "1151    20-29  Female      Divorced        No  Travel Rarely   \n",
       "1349    20-29  Female       Married        No  Travel Rarely   \n",
       "774     50-59    Male        Single        No     Non Travel   \n",
       "1080    40-49  Female       Married        No  Travel Rarely   \n",
       "\n",
       "     DistanceFrom_Home              Department      Education EducationField  \\\n",
       "719         Very Close                   Sales        College  Life Sciences   \n",
       "1058               Far                   Sales         Master        Medical   \n",
       "770         Very Close  Research & Development         Master        Medical   \n",
       "1216        Very Close                   Sales       Bachelor        Medical   \n",
       "928              Close  Research & Development       Bachelor        Medical   \n",
       "29          Very Close                   Sales         Master      Marketing   \n",
       "1151               Far  Research & Development       Bachelor        Medical   \n",
       "1349        Very Close  Research & Development        College  Life Sciences   \n",
       "774         Very Close  Research & Development  Below College        Medical   \n",
       "1080        Very Close                   Sales       Bachelor  Life Sciences   \n",
       "\n",
       "     EnvironmentSatisfaction JobInvolvement JobLevel  \\\n",
       "719                Very High           High    Lvl 2   \n",
       "1058                     Low         Medium    Lvl 2   \n",
       "770                Very High           High    Lvl 5   \n",
       "1216               Very High           High    Lvl 2   \n",
       "928                      Low           High    Lvl 3   \n",
       "29                    Medium           High    Lvl 5   \n",
       "1151                  Medium            Low    Lvl 2   \n",
       "1349                  Medium         Medium    Lvl 1   \n",
       "774                     High         Medium    Lvl 4   \n",
       "1080                    High           High    Lvl 4   \n",
       "\n",
       "                        JobRole JobSatisfaction  HourlyRate  DailyRate  \\\n",
       "719             Sales Executive       Very High          83        955   \n",
       "1058            Sales Executive          Medium          40        790   \n",
       "770           Research Director       Very High          40        430   \n",
       "1216            Sales Executive       Very High          73       1179   \n",
       "928   Healthcare Representative       Very High          73        621   \n",
       "29                      Manager             Low          83        705   \n",
       "1151     Manufacturing Director             Low          39        580   \n",
       "1349         Research Scientist            High          90        482   \n",
       "774                     Manager             Low          40        444   \n",
       "1080                    Manager          Medium          51        228   \n",
       "\n",
       "      MonthlyIncome  MonthlyRate  NumCompaniesWorked OverTime  \\\n",
       "719            4163         8571                   1      Yes   \n",
       "1058           4599         7815                   0      Yes   \n",
       "770           19627        21445                   9       No   \n",
       "1216           7847         6069                   1      Yes   \n",
       "928            7978        14075                   1       No   \n",
       "29            18947        22822                   3       No   \n",
       "1151           4877        20460                   0       No   \n",
       "1349           2933        14908                   1      Yes   \n",
       "774           16756        17323                   7       No   \n",
       "1080          16606        11380                   8       No   \n",
       "\n",
       "      PercentSalaryHike PerformanceRating RelationshipSatisfaction  \\\n",
       "719                  17         Excellent                     High   \n",
       "1058                 23       Outstanding                     High   \n",
       "770                  17         Excellent                Very High   \n",
       "1216                 17         Excellent                      Low   \n",
       "928                  11         Excellent                Very High   \n",
       "29                   12         Excellent                Very High   \n",
       "1151                 21       Outstanding                   Medium   \n",
       "1349                 13         Excellent                     High   \n",
       "774                  15         Excellent                   Medium   \n",
       "1080                 12         Excellent                Very High   \n",
       "\n",
       "      StandardHours StockOptionLevel TotalWorkingYears TrainingTimesLastYear  \\\n",
       "719              80            Lvl 0        0-10 years                0 year   \n",
       "1058             80            Lvl 0       11-20 years               2 years   \n",
       "770              80            Lvl 2       21-29 years                0 year   \n",
       "1216             80            Lvl 1       11-20 years               3 years   \n",
       "928              80            Lvl 1       11-20 years               2 years   \n",
       "29               80            Lvl 0       21-29 years               2 years   \n",
       "1151             80            Lvl 1        0-10 years               5 years   \n",
       "1349             80            Lvl 1        0-10 years               3 years   \n",
       "774              80            Lvl 0       31-40 years               3 years   \n",
       "1080             80            Lvl 1       21-29 years               2 years   \n",
       "\n",
       "     WorkLifeBalance YearsAtCompany YearsInCurrentRole  \\\n",
       "719           Better     0-10 years             0 year   \n",
       "1058            Best    11-20 years            9 years   \n",
       "770           Better     0-10 years            2 years   \n",
       "1216          Better    11-20 years            9 years   \n",
       "928           Better    11-20 years            7 years   \n",
       "29              Good     0-10 years            2 years   \n",
       "1151            Good     0-10 years            3 years   \n",
       "1349            Good     0-10 years             0 year   \n",
       "774             Best     0-10 years            7 years   \n",
       "1080            Best    11-20 years           12 years   \n",
       "\n",
       "     YearsSinceLastPromotion YearsWithCurrManager  \n",
       "719                   0 year              7 years  \n",
       "1058                10 years             10 years  \n",
       "770                  2 years              2 years  \n",
       "1216                 8 years              8 years  \n",
       "928                   0 year              5 years  \n",
       "29                   2 years              1 years  \n",
       "1151                  0 year               0 year  \n",
       "1349                 1 years               0 year  \n",
       "774                  6 years              2 years  \n",
       "1080                 5 years              1 years  "
      ]
     },
     "execution_count": 54,
     "metadata": {},
     "output_type": "execute_result"
    }
   ],
   "source": [
    "# New dataframe\n",
    "data.sample(10)"
   ]
  },
  {
   "cell_type": "code",
   "execution_count": 55,
   "id": "a5b48ae8",
   "metadata": {},
   "outputs": [],
   "source": [
    "# Save to csv\n",
    "data.to_csv(\"attr_cleaned.csv\")"
   ]
  },
  {
   "cell_type": "markdown",
   "id": "3a78c2e0",
   "metadata": {},
   "source": [
    "# The end"
   ]
  }
 ],
 "metadata": {
  "kernelspec": {
   "display_name": "Python 3 (ipykernel)",
   "language": "python",
   "name": "python3"
  },
  "language_info": {
   "codemirror_mode": {
    "name": "ipython",
    "version": 3
   },
   "file_extension": ".py",
   "mimetype": "text/x-python",
   "name": "python",
   "nbconvert_exporter": "python",
   "pygments_lexer": "ipython3",
   "version": "3.9.12"
  }
 },
 "nbformat": 4,
 "nbformat_minor": 5
}
