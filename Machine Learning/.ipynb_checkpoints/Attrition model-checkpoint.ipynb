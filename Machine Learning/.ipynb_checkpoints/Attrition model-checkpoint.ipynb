{
 "cells": [
  {
   "cell_type": "markdown",
   "id": "85aaf608",
   "metadata": {},
   "source": []
  },
  {
   "cell_type": "code",
   "execution_count": null,
   "id": "44332a99",
   "metadata": {},
   "outputs": [],
   "source": [
    "import pandas as pd\n",
    "import numpy as np"
   ]
  },
  {
   "cell_type": "code",
   "execution_count": null,
   "id": "7767ef2b",
   "metadata": {},
   "outputs": [],
   "source": [
    "data = pd.read_csv('attr.csv')\n",
    "data.sample(10)"
   ]
  },
  {
   "cell_type": "code",
   "execution_count": null,
   "id": "a0513e64",
   "metadata": {},
   "outputs": [],
   "source": [
    "data.info()"
   ]
  },
  {
   "cell_type": "code",
   "execution_count": null,
   "id": "690e9af5",
   "metadata": {},
   "outputs": [],
   "source": [
    "# Mapping the categorical variables.\n",
    "# 0 - Travel_Rarely\n",
    "# 1 - Travel_Frequently\n",
    "# 2 - Non-Travel\n",
    "print(f\"Unique Values pre-mapping:\\n{data.BusinessTravel.unique()}\\n\")\n",
    "data['BusinessTravel'] = data['BusinessTravel'].map({'Travel_Rarely' : 0,\n",
    "                                                     'Travel_Frequently' : 1,\n",
    "                                                     'Non-Travel' : 2}).astype(int)\n",
    "print(f\"Unique Values post-mapping:\\n{data.BusinessTravel.unique()}\")"
   ]
  },
  {
   "cell_type": "code",
   "execution_count": null,
   "id": "8be359f2",
   "metadata": {},
   "outputs": [],
   "source": [
    "# 0 - Sales\n",
    "# 1 - Reasearch & Development\n",
    "# 2 - Human Resources\n",
    "print(f\"Unique Values pre-mapping:\\n{data.Department.unique()}\\n\")\n",
    "data['Department'] = data['Department'].map({'Sales' : 0,\n",
    "                                             'Research & Development' : 1,\n",
    "                                             'Human Resources' : 2}).astype(int)\n",
    "print(f\"Unique Values post-mapping:\\n{data.Department.unique()}\")"
   ]
  },
  {
   "cell_type": "code",
   "execution_count": null,
   "id": "51ea7ed6",
   "metadata": {},
   "outputs": [],
   "source": [
    "# 0 - Life Sciences\n",
    "# 1 - Medical\n",
    "# 2 - Marketing\n",
    "# 3 - Technical Degree\n",
    "# 4 - Human Resources\n",
    "# 5 - Others\n",
    "print(f\"unique values pre-mapping:\\n{data.EducationField.unique()}\\n\")\n",
    "data['EducationField'] = data['EducationField'].map({'Life Sciences' : 0,\n",
    "                                                     'Medical' : 1,\n",
    "                                                     'Marketing' : 2,\n",
    "                                                     'Technical Degree' : 3,\n",
    "                                                     'Human Resources' : 4,\n",
    "                                                     'Other' : 5}).astype(int)\n",
    "print(f\"unique values post-mapping:\\n{data.EducationField.unique()}\")"
   ]
  },
  {
   "cell_type": "code",
   "execution_count": null,
   "id": "4acb6fe6",
   "metadata": {},
   "outputs": [],
   "source": [
    "# 0 - Male\n",
    "# 1 - Female\n",
    "print(f\"Unique values pre-mapping:\\n{data.Gender.unique()}\\n\")\n",
    "data['Gender'] = data['Gender'].map({'Male' : 0,\n",
    "                                     'Female' : 1}).astype(int)\n",
    "print(f\"Unique values post-mapping:\\n{data.Gender.unique()}\")"
   ]
  },
  {
   "cell_type": "code",
   "execution_count": null,
   "id": "dfd474e8",
   "metadata": {},
   "outputs": [],
   "source": [
    "# 0 - No\n",
    "# 1 - Yes\n",
    "print(f\"Unique values pre-mapping:\\n{data.OverTime.unique()}\\n\")\n",
    "data['OverTime'] = data['OverTime'].map({'No' : 0,\n",
    "                                         'Yes' : 1}).astype(int)\n",
    "print(f\"Unique values post-mapping:\\n{data.OverTime.unique()}\")"
   ]
  },
  {
   "cell_type": "code",
   "execution_count": null,
   "id": "7e93b54d",
   "metadata": {},
   "outputs": [],
   "source": [
    "# 0 - No\n",
    "# 1 - Yes\n",
    "print(f\"Unique values pre-mapping:\\n{data.Attrition.unique()}\\n\")\n",
    "data['Attrition'] = data['Attrition'].map({'No' : 0,\n",
    "                                         'Yes' : 1}).astype(int)\n",
    "print(f\"Unique values post-mapping:\\n{data.Attrition.unique()}\")"
   ]
  },
  {
   "cell_type": "code",
   "execution_count": null,
   "id": "bd6021d1",
   "metadata": {},
   "outputs": [],
   "source": [
    "# 0 - Single\n",
    "# 1 - Married\n",
    "# 2 - Divorced\n",
    "data.MaritalStatus.unique()\n",
    "print(f\"Unique values pre-mapping:\\n{data.MaritalStatus.unique()}\\n\")\n",
    "data['MaritalStatus'] = data['MaritalStatus'].map({'Single' : 0,\n",
    "                                                   'Married' : 1,\n",
    "                                                   'Divorced' : 2}).astype(int)\n",
    "print(f\"Unique values post-mapping:\\n{data.MaritalStatus.unique()}\")"
   ]
  },
  {
   "cell_type": "code",
   "execution_count": null,
   "id": "11e27f42",
   "metadata": {},
   "outputs": [],
   "source": [
    "# data.corr()"
   ]
  },
  {
   "cell_type": "code",
   "execution_count": null,
   "id": "e0ba6efc",
   "metadata": {},
   "outputs": [],
   "source": [
    "# data_obj = dd"
   ]
  },
  {
   "cell_type": "markdown",
   "id": "af7ddedc",
   "metadata": {},
   "source": []
  },
  {
   "cell_type": "code",
   "execution_count": null,
   "id": "ed5a5c39",
   "metadata": {},
   "outputs": [],
   "source": [
    "data.sample(10)"
   ]
  },
  {
   "cell_type": "code",
   "execution_count": null,
   "id": "809dd82b",
   "metadata": {},
   "outputs": [],
   "source": [
    "from scipy import stats"
   ]
  },
  {
   "cell_type": "code",
   "execution_count": null,
   "id": "0524146b",
   "metadata": {},
   "outputs": [],
   "source": [
    "cols = data.columns\n",
    "cols"
   ]
  },
  {
   "cell_type": "code",
   "execution_count": null,
   "id": "6d68c8b7",
   "metadata": {},
   "outputs": [],
   "source": []
  }
 ],
 "metadata": {
  "kernelspec": {
   "display_name": "Python 3 (ipykernel)",
   "language": "python",
   "name": "python3"
  },
  "language_info": {
   "codemirror_mode": {
    "name": "ipython",
    "version": 3
   },
   "file_extension": ".py",
   "mimetype": "text/x-python",
   "name": "python",
   "nbconvert_exporter": "python",
   "pygments_lexer": "ipython3",
   "version": "3.9.12"
  }
 },
 "nbformat": 4,
 "nbformat_minor": 5
}
